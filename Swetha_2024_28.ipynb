{
  "nbformat": 4,
  "nbformat_minor": 0,
  "metadata": {
    "colab": {
      "provenance": [],
      "include_colab_link": true
    },
    "kernelspec": {
      "name": "python3",
      "display_name": "Python 3"
    },
    "language_info": {
      "name": "python"
    }
  },
  "cells": [
    {
      "cell_type": "markdown",
      "metadata": {
        "id": "view-in-github",
        "colab_type": "text"
      },
      "source": [
        "<a href=\"https://colab.research.google.com/github/royal281203/introduction-/blob/main/Swetha_2024_28.ipynb\" target=\"_parent\"><img src=\"https://colab.research.google.com/assets/colab-badge.svg\" alt=\"Open In Colab\"/></a>"
      ]
    },
    {
      "cell_type": "code",
      "execution_count": null,
      "metadata": {
        "id": "39g6tI2YmNy5"
      },
      "outputs": [],
      "source": [
        "!pip install google-colab"
      ]
    },
    {
      "cell_type": "code",
      "source": [
        "from google.colab import drive"
      ],
      "metadata": {
        "id": "a-Qx-6LQmqkH"
      },
      "execution_count": null,
      "outputs": []
    },
    {
      "cell_type": "code",
      "source": [
        "drive.mount('/content/drive')"
      ],
      "metadata": {
        "id": "tYhmcmMfnEIM"
      },
      "execution_count": null,
      "outputs": []
    },
    {
      "cell_type": "code",
      "source": [
        "!ls -ltr /content/drive/MyDrive"
      ],
      "metadata": {
        "id": "HERc6MWbvbv6"
      },
      "execution_count": null,
      "outputs": []
    },
    {
      "cell_type": "code",
      "source": [
        "!ls -ltr /content/drive/MyDrive | grep * .csv"
      ],
      "metadata": {
        "id": "Jejz_AlTvs9p"
      },
      "execution_count": null,
      "outputs": []
    },
    {
      "cell_type": "code",
      "source": [
        "!ls -ltr /content/drive/MyDrive/Untitled spreadsheet.gsheet"
      ],
      "metadata": {
        "id": "NUExpOrxpwco"
      },
      "execution_count": null,
      "outputs": []
    },
    {
      "cell_type": "code",
      "source": [
        "!pip install pandas"
      ],
      "metadata": {
        "id": "rVeNA11kwZDR",
        "outputId": "7a540abe-7b06-4aaf-96bc-6d53df1904f0",
        "colab": {
          "base_uri": "https://localhost:8080/"
        }
      },
      "execution_count": null,
      "outputs": [
        {
          "output_type": "stream",
          "name": "stdout",
          "text": [
            "Requirement already satisfied: pandas in /usr/local/lib/python3.10/dist-packages (2.0.3)\n",
            "Requirement already satisfied: python-dateutil>=2.8.2 in /usr/local/lib/python3.10/dist-packages (from pandas) (2.8.2)\n",
            "Requirement already satisfied: pytz>=2020.1 in /usr/local/lib/python3.10/dist-packages (from pandas) (2023.4)\n",
            "Requirement already satisfied: tzdata>=2022.1 in /usr/local/lib/python3.10/dist-packages (from pandas) (2024.1)\n",
            "Requirement already satisfied: numpy>=1.21.0 in /usr/local/lib/python3.10/dist-packages (from pandas) (1.25.2)\n",
            "Requirement already satisfied: six>=1.5 in /usr/local/lib/python3.10/dist-packages (from python-dateutil>=2.8.2->pandas) (1.16.0)\n"
          ]
        }
      ]
    },
    {
      "cell_type": "code",
      "source": [
        "!pip install numpy"
      ],
      "metadata": {
        "id": "DyVZ8TRkwiOt",
        "outputId": "ac99e99d-11c1-4970-9322-a805088dd829",
        "colab": {
          "base_uri": "https://localhost:8080/"
        }
      },
      "execution_count": null,
      "outputs": [
        {
          "output_type": "stream",
          "name": "stdout",
          "text": [
            "Requirement already satisfied: numpy in /usr/local/lib/python3.10/dist-packages (1.25.2)\n"
          ]
        }
      ]
    },
    {
      "cell_type": "code",
      "source": [
        "!pip install BeautifulSoup4"
      ],
      "metadata": {
        "id": "0a8DopPWw8FJ",
        "outputId": "1d1fec93-2f2f-405c-a4d7-87188793a247",
        "colab": {
          "base_uri": "https://localhost:8080/"
        }
      },
      "execution_count": null,
      "outputs": [
        {
          "output_type": "stream",
          "name": "stdout",
          "text": [
            "Requirement already satisfied: BeautifulSoup4 in /usr/local/lib/python3.10/dist-packages (4.12.3)\n",
            "Requirement already satisfied: soupsieve>1.2 in /usr/local/lib/python3.10/dist-packages (from BeautifulSoup4) (2.5)\n"
          ]
        }
      ]
    },
    {
      "cell_type": "code",
      "source": [
        "!pip install torch torchvision -U"
      ],
      "metadata": {
        "id": "SHHOXTWfxL0m",
        "outputId": "c6d69144-491a-4607-b1d4-f23ef26aa184",
        "colab": {
          "base_uri": "https://localhost:8080/"
        }
      },
      "execution_count": null,
      "outputs": [
        {
          "output_type": "stream",
          "name": "stdout",
          "text": [
            "Requirement already satisfied: torch in /usr/local/lib/python3.10/dist-packages (2.3.0+cu121)\n",
            "Collecting torch\n",
            "  Downloading torch-2.3.1-cp310-cp310-manylinux1_x86_64.whl (779.1 MB)\n",
            "\u001b[2K     \u001b[90m━━━━━━━━━━━━━━━━━━━━━━━━━━━━━━━━━━━━━━━━\u001b[0m \u001b[32m779.1/779.1 MB\u001b[0m \u001b[31m1.3 MB/s\u001b[0m eta \u001b[36m0:00:00\u001b[0m\n",
            "\u001b[?25hRequirement already satisfied: torchvision in /usr/local/lib/python3.10/dist-packages (0.18.0+cu121)\n",
            "Collecting torchvision\n",
            "  Downloading torchvision-0.18.1-cp310-cp310-manylinux1_x86_64.whl (7.0 MB)\n",
            "\u001b[2K     \u001b[90m━━━━━━━━━━━━━━━━━━━━━━━━━━━━━━━━━━━━━━━━\u001b[0m \u001b[32m7.0/7.0 MB\u001b[0m \u001b[31m69.9 MB/s\u001b[0m eta \u001b[36m0:00:00\u001b[0m\n",
            "\u001b[?25hRequirement already satisfied: filelock in /usr/local/lib/python3.10/dist-packages (from torch) (3.15.3)\n",
            "Requirement already satisfied: typing-extensions>=4.8.0 in /usr/local/lib/python3.10/dist-packages (from torch) (4.12.2)\n",
            "Requirement already satisfied: sympy in /usr/local/lib/python3.10/dist-packages (from torch) (1.12.1)\n",
            "Requirement already satisfied: networkx in /usr/local/lib/python3.10/dist-packages (from torch) (3.3)\n",
            "Requirement already satisfied: jinja2 in /usr/local/lib/python3.10/dist-packages (from torch) (3.1.4)\n",
            "Requirement already satisfied: fsspec in /usr/local/lib/python3.10/dist-packages (from torch) (2023.6.0)\n",
            "Collecting nvidia-cuda-nvrtc-cu12==12.1.105 (from torch)\n",
            "  Using cached nvidia_cuda_nvrtc_cu12-12.1.105-py3-none-manylinux1_x86_64.whl (23.7 MB)\n",
            "Collecting nvidia-cuda-runtime-cu12==12.1.105 (from torch)\n",
            "  Using cached nvidia_cuda_runtime_cu12-12.1.105-py3-none-manylinux1_x86_64.whl (823 kB)\n",
            "Collecting nvidia-cuda-cupti-cu12==12.1.105 (from torch)\n",
            "  Using cached nvidia_cuda_cupti_cu12-12.1.105-py3-none-manylinux1_x86_64.whl (14.1 MB)\n",
            "Collecting nvidia-cudnn-cu12==8.9.2.26 (from torch)\n",
            "  Using cached nvidia_cudnn_cu12-8.9.2.26-py3-none-manylinux1_x86_64.whl (731.7 MB)\n",
            "Collecting nvidia-cublas-cu12==12.1.3.1 (from torch)\n",
            "  Using cached nvidia_cublas_cu12-12.1.3.1-py3-none-manylinux1_x86_64.whl (410.6 MB)\n",
            "Collecting nvidia-cufft-cu12==11.0.2.54 (from torch)\n",
            "  Using cached nvidia_cufft_cu12-11.0.2.54-py3-none-manylinux1_x86_64.whl (121.6 MB)\n",
            "Collecting nvidia-curand-cu12==10.3.2.106 (from torch)\n",
            "  Using cached nvidia_curand_cu12-10.3.2.106-py3-none-manylinux1_x86_64.whl (56.5 MB)\n",
            "Collecting nvidia-cusolver-cu12==11.4.5.107 (from torch)\n",
            "  Using cached nvidia_cusolver_cu12-11.4.5.107-py3-none-manylinux1_x86_64.whl (124.2 MB)\n",
            "Collecting nvidia-cusparse-cu12==12.1.0.106 (from torch)\n",
            "  Using cached nvidia_cusparse_cu12-12.1.0.106-py3-none-manylinux1_x86_64.whl (196.0 MB)\n",
            "Collecting nvidia-nccl-cu12==2.20.5 (from torch)\n",
            "  Using cached nvidia_nccl_cu12-2.20.5-py3-none-manylinux2014_x86_64.whl (176.2 MB)\n",
            "Collecting nvidia-nvtx-cu12==12.1.105 (from torch)\n",
            "  Using cached nvidia_nvtx_cu12-12.1.105-py3-none-manylinux1_x86_64.whl (99 kB)\n",
            "Collecting triton==2.3.1 (from torch)\n",
            "  Downloading triton-2.3.1-cp310-cp310-manylinux_2_17_x86_64.manylinux2014_x86_64.whl (168.1 MB)\n",
            "\u001b[2K     \u001b[90m━━━━━━━━━━━━━━━━━━━━━━━━━━━━━━━━━━━━━━━━\u001b[0m \u001b[32m168.1/168.1 MB\u001b[0m \u001b[31m6.7 MB/s\u001b[0m eta \u001b[36m0:00:00\u001b[0m\n",
            "\u001b[?25hCollecting nvidia-nvjitlink-cu12 (from nvidia-cusolver-cu12==11.4.5.107->torch)\n",
            "  Downloading nvidia_nvjitlink_cu12-12.5.40-py3-none-manylinux2014_x86_64.whl (21.3 MB)\n",
            "\u001b[2K     \u001b[90m━━━━━━━━━━━━━━━━━━━━━━━━━━━━━━━━━━━━━━━━\u001b[0m \u001b[32m21.3/21.3 MB\u001b[0m \u001b[31m64.8 MB/s\u001b[0m eta \u001b[36m0:00:00\u001b[0m\n",
            "\u001b[?25hRequirement already satisfied: numpy in /usr/local/lib/python3.10/dist-packages (from torchvision) (1.25.2)\n",
            "Requirement already satisfied: pillow!=8.3.*,>=5.3.0 in /usr/local/lib/python3.10/dist-packages (from torchvision) (9.4.0)\n",
            "Requirement already satisfied: MarkupSafe>=2.0 in /usr/local/lib/python3.10/dist-packages (from jinja2->torch) (2.1.5)\n",
            "Requirement already satisfied: mpmath<1.4.0,>=1.1.0 in /usr/local/lib/python3.10/dist-packages (from sympy->torch) (1.3.0)\n",
            "Installing collected packages: triton, nvidia-nvtx-cu12, nvidia-nvjitlink-cu12, nvidia-nccl-cu12, nvidia-curand-cu12, nvidia-cufft-cu12, nvidia-cuda-runtime-cu12, nvidia-cuda-nvrtc-cu12, nvidia-cuda-cupti-cu12, nvidia-cublas-cu12, nvidia-cusparse-cu12, nvidia-cudnn-cu12, nvidia-cusolver-cu12, torch, torchvision\n",
            "  Attempting uninstall: triton\n",
            "    Found existing installation: triton 2.3.0\n",
            "    Uninstalling triton-2.3.0:\n",
            "      Successfully uninstalled triton-2.3.0\n",
            "  Attempting uninstall: torch\n",
            "    Found existing installation: torch 2.3.0+cu121\n",
            "    Uninstalling torch-2.3.0+cu121:\n",
            "      Successfully uninstalled torch-2.3.0+cu121\n",
            "  Attempting uninstall: torchvision\n",
            "    Found existing installation: torchvision 0.18.0+cu121\n",
            "    Uninstalling torchvision-0.18.0+cu121:\n",
            "      Successfully uninstalled torchvision-0.18.0+cu121\n",
            "\u001b[31mERROR: pip's dependency resolver does not currently take into account all the packages that are installed. This behaviour is the source of the following dependency conflicts.\n",
            "torchaudio 2.3.0+cu121 requires torch==2.3.0, but you have torch 2.3.1 which is incompatible.\u001b[0m\u001b[31m\n",
            "\u001b[0mSuccessfully installed nvidia-cublas-cu12-12.1.3.1 nvidia-cuda-cupti-cu12-12.1.105 nvidia-cuda-nvrtc-cu12-12.1.105 nvidia-cuda-runtime-cu12-12.1.105 nvidia-cudnn-cu12-8.9.2.26 nvidia-cufft-cu12-11.0.2.54 nvidia-curand-cu12-10.3.2.106 nvidia-cusolver-cu12-11.4.5.107 nvidia-cusparse-cu12-12.1.0.106 nvidia-nccl-cu12-2.20.5 nvidia-nvjitlink-cu12-12.5.40 nvidia-nvtx-cu12-12.1.105 torch-2.3.1 torchvision-0.18.1 triton-2.3.1\n"
          ]
        }
      ]
    },
    {
      "cell_type": "code",
      "source": [
        "import pandas as pd\n",
        "from tabulate import tabulate\n",
        "import traceback\n",
        "import numpy as np\n",
        "import matplotlib.pyplot as plt\n",
        "from requests import get\n",
        "import requests\n",
        "import os\n",
        "\n"
      ],
      "metadata": {
        "id": "0HCFOfMZ1pDT"
      },
      "execution_count": null,
      "outputs": []
    },
    {
      "cell_type": "code",
      "source": [
        "# empty list\n",
        "lst_names = []\n",
        "# list with some string values in it\n",
        "lst_cities = [\"Bangalore\", \"Chennai\", \"SFO\", \"Beijing\"]\n",
        "# append to existing list\n",
        "lst_cities.append(\"NYC\")\n",
        "# list with some integer values\n",
        "lst_age = [10, 20]\n",
        "# append an integer to the existing list\n",
        "lst_age.append(30)\n",
        "# iterate each value in a list\n",
        "for val in lst_cities:\n",
        " print(val)\n",
        "# check if a value exists in a list\n",
        "if \"SFO\" in lst_cities:\n",
        " print(\"yes\")\n",
        "else:\n",
        " print(\"no\")\n",
        "\n"
      ],
      "metadata": {
        "id": "Ph_PnzLS2DXR",
        "outputId": "0cc092c4-8e40-44cc-bdba-6b4ebc999d1e",
        "colab": {
          "base_uri": "https://localhost:8080/"
        }
      },
      "execution_count": null,
      "outputs": [
        {
          "output_type": "stream",
          "name": "stdout",
          "text": [
            "Bangalore\n",
            "Chennai\n",
            "SFO\n",
            "Beijing\n",
            "NYC\n",
            "yes\n"
          ]
        }
      ]
    },
    {
      "cell_type": "code",
      "source": [
        "lst_pets = [\"dog\", \"cat\"]\n",
        "for i, value in enumerate(lst_pets):\n",
        " print(f\"At index {i}, the value in the list is {value}\")\n"
      ],
      "metadata": {
        "id": "FHBG08tR2M0I",
        "outputId": "2dc4c0a1-0e11-4982-f1cf-348b9d47a0b8",
        "colab": {
          "base_uri": "https://localhost:8080/"
        }
      },
      "execution_count": null,
      "outputs": [
        {
          "output_type": "stream",
          "name": "stdout",
          "text": [
            "At index 0, the value in the list is dog\n",
            "At index 1, the value in the list is cat\n"
          ]
        }
      ]
    },
    {
      "cell_type": "code",
      "source": [
        "# empty set\n",
        "set_names = ()\n",
        "# Set with some string values in it\n",
        "set_cities = [\"Bangalore\", \"Chennai\", \"SFO\", \"Beijing\"]\n",
        "# append to existing list\n",
        "set_cities.append(\"NYC\")\n",
        "# list with some integer values\n",
        "set_age = [10, 20]\n",
        "# append an integer to the existing list\n",
        "set_age.append(30)\n",
        "print(set_cities)\n",
        "print(set_age)\n",
        "\n",
        "\n",
        "\n"
      ],
      "metadata": {
        "id": "fhoVUn282zE6",
        "outputId": "66e5c097-1232-44c5-f7e5-03681f2addb1",
        "colab": {
          "base_uri": "https://localhost:8080/"
        }
      },
      "execution_count": null,
      "outputs": [
        {
          "output_type": "stream",
          "name": "stdout",
          "text": [
            "['Bangalore', 'Chennai', 'SFO', 'Beijing', 'NYC']\n",
            "[10, 20, 30]\n"
          ]
        }
      ]
    },
    {
      "cell_type": "code",
      "source": [
        "# declare dictionary\n",
        "dict_data = {}\n",
        "\n",
        "# insert an empty list into the dictionary under the key 'pet'\n",
        "dict_data['pet'] = []\n",
        "\n",
        "# append dictionaries representing pets to the list under 'pet'\n",
        "dict_data['pet'].append({\n",
        "    'name': 'Dog',\n",
        "    'website': 'dog.com',\n",
        "    'from': 'San Francisco'\n",
        "})\n",
        "dict_data['pet'].append({\n",
        "    'name': 'Cat',\n",
        "    'website': 'hellokitty.com',\n",
        "    'from': 'Seattle'\n",
        "})"
      ],
      "metadata": {
        "id": "Aj6GHNfL2zmG"
      },
      "execution_count": null,
      "outputs": []
    },
    {
      "cell_type": "code",
      "source": [
        "# Example code demonstrating the use of len() with different data structures\n",
        "\n",
        "# Example 1: Getting the number of rows in a dataframe (hypothetical)\n",
        "# Note: df is assumed to be a Pandas DataFrame\n",
        "# len(df)\n",
        "\n",
        "# Example 2: Getting the number of elements in a list\n",
        "lst_pet_types = [\"cat\", \"dog\", \"horse\"]\n",
        "# Returns number of elements in the list\n",
        "c_pet_types = len(lst_pet_types)\n",
        "# Prints 3\n",
        "print(f\"# pet types: {c_pet_types}\")\n",
        "\n",
        "# Example 3: Getting the number of keys in a dictionary\n",
        "dict_pets = {\"name\": \"dog\", \"age\": 2}\n",
        "# Returns number of keys in the dictionary\n",
        "c_pets = len(dict_pets)\n",
        "# Prints 2\n",
        "print(f\"# pets: {c_pets}\")\n",
        "\n",
        "# Example 4: Getting the number of elements in a list of dictionaries\n",
        "dict_pets = {\"pets\": [{\"name\": \"dog\", \"age\": 2}, {\"name\": \"dog\", \"age\": 2}]}\n",
        "# Returns number of keys in the dictionary\n",
        "c_pets = len(dict_pets[\"pets\"])\n",
        "# Prints 2\n",
        "print(f\"# pets: {c_pets}\")\n",
        "\n",
        "# Example 5: Getting the number of elements in a list of dictionaries and persons\n",
        "dict_p_h = {\n",
        "    \"pets\": [{\"name\": \"dog\", \"age\": 2}, {\"name\": \"dog\", \"age\": 2}],\n",
        "    \"persons\": [{\"name\": \"ram\", \"age\": 12}, {\"name\": \"kumaran\", \"age\": 11}]\n",
        "}\n",
        "# Returns number of keys in the dictionary\n",
        "c_pets = len(dict_p_h[\"pets\"])\n",
        "c_humans = len(dict_p_h[\"persons\"])\n",
        "# Prints 2 and 2\n",
        "print(f\"# pets: {c_pets} ; # humans: {c_humans}\")\n",
        "\n"
      ],
      "metadata": {
        "id": "ZQLZU63j4hwE",
        "outputId": "6e4b91bc-24a6-493e-87ff-e1a791f354ab",
        "colab": {
          "base_uri": "https://localhost:8080/"
        }
      },
      "execution_count": null,
      "outputs": [
        {
          "output_type": "stream",
          "name": "stdout",
          "text": [
            "# pet types: 3\n",
            "# pets: 2\n",
            "# pets: 2\n",
            "# pets: 2 ; # humans: 2\n"
          ]
        }
      ]
    },
    {
      "cell_type": "code",
      "source": [
        "\n",
        "txt = \" \tMoscow \t\"\n",
        "str_clean = txt.strip()\n",
        "print(f\"From weather report, {str_clean} is too cold most of the times\")\n",
        "\n"
      ],
      "metadata": {
        "id": "RbLLh9t74iiq",
        "outputId": "a0e6787e-6297-4b41-8ac5-ebc580d7c3ca",
        "colab": {
          "base_uri": "https://localhost:8080/"
        }
      },
      "execution_count": null,
      "outputs": [
        {
          "output_type": "stream",
          "name": "stdout",
          "text": [
            "From weather report, Moscow is too cold most of the times\n"
          ]
        }
      ]
    },
    {
      "cell_type": "code",
      "source": [
        "import pandas as pd\n",
        "\n",
        "# Assuming df is your DataFrame\n",
        "# Example DataFrame for illustration\n",
        "data = {'column_nameA': [1, 2, 3], 'column_nameB': [4, 5, 6], 'column_nameC': [7, 8, 9]}\n",
        "df = pd.DataFrame(data)\n",
        "\n",
        "# Drop columns 'column_nameA' and 'column_nameB'\n",
        "df = df.drop(columns=['column_nameA', 'column_nameB'])\n",
        "\n",
        "# Print the resulting DataFrame\n",
        "print(df)\n",
        "\n",
        "\n"
      ],
      "metadata": {
        "id": "oKfGlvZI4ivs",
        "outputId": "8ef3e51d-02e8-4377-d36d-3ab454e9a97b",
        "colab": {
          "base_uri": "https://localhost:8080/"
        }
      },
      "execution_count": null,
      "outputs": [
        {
          "output_type": "stream",
          "name": "stdout",
          "text": [
            "   column_nameC\n",
            "0             7\n",
            "1             8\n",
            "2             9\n"
          ]
        }
      ]
    },
    {
      "cell_type": "code",
      "source": [
        "import pandas as pd\n",
        "\n",
        "# Example DataFrame for illustration\n",
        "data = {'column_nameA': [1, 2, 3], 'column_nameB': [4, 5, 6]}\n",
        "df = pd.DataFrame(data)\n",
        "\n",
        "# Rename columns\n",
        "df = df.rename(columns={'column_nameA': 'a', 'column_nameB': 'b'})\n",
        "\n",
        "# Print the resulting DataFrame\n",
        "print(df)\n"
      ],
      "metadata": {
        "id": "H0AWkyxM6GYp",
        "outputId": "b5d4bce4-277c-409a-bf25-75be27e7381b",
        "colab": {
          "base_uri": "https://localhost:8080/"
        }
      },
      "execution_count": null,
      "outputs": [
        {
          "output_type": "stream",
          "name": "stdout",
          "text": [
            "   a  b\n",
            "0  1  4\n",
            "1  2  5\n",
            "2  3  6\n"
          ]
        }
      ]
    },
    {
      "cell_type": "code",
      "source": [
        "lst_items = ['rambo','dog','chennai']\n",
        "# joins elements of lst_items by delimiter ','\n",
        "str = ','.join(lst_items)\n",
        "# prints -> rambo,dog,chennai\n",
        "print(str)\n",
        "\n"
      ],
      "metadata": {
        "id": "P3Co62I_6GbQ",
        "outputId": "d10c7705-f2f8-4be3-e60a-6a21e37cf5b3",
        "colab": {
          "base_uri": "https://localhost:8080/"
        }
      },
      "execution_count": null,
      "outputs": [
        {
          "output_type": "stream",
          "name": "stdout",
          "text": [
            "rambo,dog,chennai\n"
          ]
        }
      ]
    },
    {
      "cell_type": "code",
      "source": [
        "import pandas as pd\n",
        "\n",
        "# Input file path (replace with your actual file path)\n",
        "in_file = \"path/to/your/csv/file.csv\"\n",
        "\n",
        "# Read CSV into DataFrame\n",
        "try:\n",
        "    df = pd.read_csv(in_file)\n",
        "    # Optionally, display the first few rows of the DataFrame to verify it was read correctly\n",
        "    print(df.head())\n",
        "except FileNotFoundError:\n",
        "    print(f\"Error: The file '{in_file}' was not found.\")\n",
        "except pd.errors.EmptyDataError:\n",
        "    print(f\"Error: The file '{in_file}' is empty or contains no data.\")\n",
        "except pd.errors.ParserError as e:\n",
        "    print(f\"Error: There was an issue parsing the file '{in_file}': {str(e)}\")\n",
        "except Exception as e:\n",
        "    print(f\"Error: An unexpected error occurred: {str(e)}\")\n",
        "\n",
        "\n"
      ],
      "metadata": {
        "id": "nVs42hIr6Gd2",
        "outputId": "8ebe3d76-cbd4-48d4-bbe2-70aa47ea23f2",
        "colab": {
          "base_uri": "https://localhost:8080/"
        }
      },
      "execution_count": null,
      "outputs": [
        {
          "output_type": "stream",
          "name": "stdout",
          "text": [
            "Error: The file 'path/to/your/csv/file.csv' was not found.\n"
          ]
        }
      ]
    },
    {
      "cell_type": "code",
      "source": [
        "print(df.head(10))\n",
        "\n"
      ],
      "metadata": {
        "id": "58rH7Cwn6GgS",
        "outputId": "fe1d49f8-7e52-4c06-92cb-e839d0d2fd3f",
        "colab": {
          "base_uri": "https://localhost:8080/"
        }
      },
      "execution_count": null,
      "outputs": [
        {
          "output_type": "stream",
          "name": "stdout",
          "text": [
            "   a  b\n",
            "0  1  4\n",
            "1  2  5\n",
            "2  3  6\n"
          ]
        }
      ]
    },
    {
      "cell_type": "code",
      "source": [
        "df.shape\n",
        "\n"
      ],
      "metadata": {
        "id": "ejit0YTM6Gis",
        "outputId": "51f26410-2310-4245-9f68-ee4cd4ce6522",
        "colab": {
          "base_uri": "https://localhost:8080/"
        }
      },
      "execution_count": null,
      "outputs": [
        {
          "output_type": "execute_result",
          "data": {
            "text/plain": [
              "(3, 2)"
            ]
          },
          "metadata": {},
          "execution_count": 31
        }
      ]
    },
    {
      "cell_type": "code",
      "source": [
        "print(list(df))\n",
        "\n"
      ],
      "metadata": {
        "id": "kwbqVSFO6Gkt",
        "outputId": "6f070e01-1f57-4a73-8002-2c76b93b51ab",
        "colab": {
          "base_uri": "https://localhost:8080/"
        }
      },
      "execution_count": null,
      "outputs": [
        {
          "output_type": "stream",
          "name": "stdout",
          "text": [
            "['a', 'b']\n"
          ]
        }
      ]
    },
    {
      "cell_type": "code",
      "source": [
        "df.dtypes\n",
        "\n"
      ],
      "metadata": {
        "id": "Ueln4gYD6GnL",
        "outputId": "aad9c4e0-1c36-493f-d8ef-6ed95e7c9edb",
        "colab": {
          "base_uri": "https://localhost:8080/"
        }
      },
      "execution_count": null,
      "outputs": [
        {
          "output_type": "execute_result",
          "data": {
            "text/plain": [
              "a    int64\n",
              "b    int64\n",
              "dtype: object"
            ]
          },
          "metadata": {},
          "execution_count": 33
        }
      ]
    },
    {
      "cell_type": "code",
      "source": [
        "df.describe(include='all')\n",
        "\n"
      ],
      "metadata": {
        "id": "KYcGe52D6Gp8",
        "outputId": "29ef6ae0-a842-40e7-c0b5-8533a3b832a8",
        "colab": {
          "base_uri": "https://localhost:8080/",
          "height": 300
        }
      },
      "execution_count": null,
      "outputs": [
        {
          "output_type": "execute_result",
          "data": {
            "text/plain": [
              "         a    b\n",
              "count  3.0  3.0\n",
              "mean   2.0  5.0\n",
              "std    1.0  1.0\n",
              "min    1.0  4.0\n",
              "25%    1.5  4.5\n",
              "50%    2.0  5.0\n",
              "75%    2.5  5.5\n",
              "max    3.0  6.0"
            ],
            "text/html": [
              "\n",
              "  <div id=\"df-84180668-b098-4e74-a48e-edc963619a28\" class=\"colab-df-container\">\n",
              "    <div>\n",
              "<style scoped>\n",
              "    .dataframe tbody tr th:only-of-type {\n",
              "        vertical-align: middle;\n",
              "    }\n",
              "\n",
              "    .dataframe tbody tr th {\n",
              "        vertical-align: top;\n",
              "    }\n",
              "\n",
              "    .dataframe thead th {\n",
              "        text-align: right;\n",
              "    }\n",
              "</style>\n",
              "<table border=\"1\" class=\"dataframe\">\n",
              "  <thead>\n",
              "    <tr style=\"text-align: right;\">\n",
              "      <th></th>\n",
              "      <th>a</th>\n",
              "      <th>b</th>\n",
              "    </tr>\n",
              "  </thead>\n",
              "  <tbody>\n",
              "    <tr>\n",
              "      <th>count</th>\n",
              "      <td>3.0</td>\n",
              "      <td>3.0</td>\n",
              "    </tr>\n",
              "    <tr>\n",
              "      <th>mean</th>\n",
              "      <td>2.0</td>\n",
              "      <td>5.0</td>\n",
              "    </tr>\n",
              "    <tr>\n",
              "      <th>std</th>\n",
              "      <td>1.0</td>\n",
              "      <td>1.0</td>\n",
              "    </tr>\n",
              "    <tr>\n",
              "      <th>min</th>\n",
              "      <td>1.0</td>\n",
              "      <td>4.0</td>\n",
              "    </tr>\n",
              "    <tr>\n",
              "      <th>25%</th>\n",
              "      <td>1.5</td>\n",
              "      <td>4.5</td>\n",
              "    </tr>\n",
              "    <tr>\n",
              "      <th>50%</th>\n",
              "      <td>2.0</td>\n",
              "      <td>5.0</td>\n",
              "    </tr>\n",
              "    <tr>\n",
              "      <th>75%</th>\n",
              "      <td>2.5</td>\n",
              "      <td>5.5</td>\n",
              "    </tr>\n",
              "    <tr>\n",
              "      <th>max</th>\n",
              "      <td>3.0</td>\n",
              "      <td>6.0</td>\n",
              "    </tr>\n",
              "  </tbody>\n",
              "</table>\n",
              "</div>\n",
              "    <div class=\"colab-df-buttons\">\n",
              "\n",
              "  <div class=\"colab-df-container\">\n",
              "    <button class=\"colab-df-convert\" onclick=\"convertToInteractive('df-84180668-b098-4e74-a48e-edc963619a28')\"\n",
              "            title=\"Convert this dataframe to an interactive table.\"\n",
              "            style=\"display:none;\">\n",
              "\n",
              "  <svg xmlns=\"http://www.w3.org/2000/svg\" height=\"24px\" viewBox=\"0 -960 960 960\">\n",
              "    <path d=\"M120-120v-720h720v720H120Zm60-500h600v-160H180v160Zm220 220h160v-160H400v160Zm0 220h160v-160H400v160ZM180-400h160v-160H180v160Zm440 0h160v-160H620v160ZM180-180h160v-160H180v160Zm440 0h160v-160H620v160Z\"/>\n",
              "  </svg>\n",
              "    </button>\n",
              "\n",
              "  <style>\n",
              "    .colab-df-container {\n",
              "      display:flex;\n",
              "      gap: 12px;\n",
              "    }\n",
              "\n",
              "    .colab-df-convert {\n",
              "      background-color: #E8F0FE;\n",
              "      border: none;\n",
              "      border-radius: 50%;\n",
              "      cursor: pointer;\n",
              "      display: none;\n",
              "      fill: #1967D2;\n",
              "      height: 32px;\n",
              "      padding: 0 0 0 0;\n",
              "      width: 32px;\n",
              "    }\n",
              "\n",
              "    .colab-df-convert:hover {\n",
              "      background-color: #E2EBFA;\n",
              "      box-shadow: 0px 1px 2px rgba(60, 64, 67, 0.3), 0px 1px 3px 1px rgba(60, 64, 67, 0.15);\n",
              "      fill: #174EA6;\n",
              "    }\n",
              "\n",
              "    .colab-df-buttons div {\n",
              "      margin-bottom: 4px;\n",
              "    }\n",
              "\n",
              "    [theme=dark] .colab-df-convert {\n",
              "      background-color: #3B4455;\n",
              "      fill: #D2E3FC;\n",
              "    }\n",
              "\n",
              "    [theme=dark] .colab-df-convert:hover {\n",
              "      background-color: #434B5C;\n",
              "      box-shadow: 0px 1px 3px 1px rgba(0, 0, 0, 0.15);\n",
              "      filter: drop-shadow(0px 1px 2px rgba(0, 0, 0, 0.3));\n",
              "      fill: #FFFFFF;\n",
              "    }\n",
              "  </style>\n",
              "\n",
              "    <script>\n",
              "      const buttonEl =\n",
              "        document.querySelector('#df-84180668-b098-4e74-a48e-edc963619a28 button.colab-df-convert');\n",
              "      buttonEl.style.display =\n",
              "        google.colab.kernel.accessAllowed ? 'block' : 'none';\n",
              "\n",
              "      async function convertToInteractive(key) {\n",
              "        const element = document.querySelector('#df-84180668-b098-4e74-a48e-edc963619a28');\n",
              "        const dataTable =\n",
              "          await google.colab.kernel.invokeFunction('convertToInteractive',\n",
              "                                                    [key], {});\n",
              "        if (!dataTable) return;\n",
              "\n",
              "        const docLinkHtml = 'Like what you see? Visit the ' +\n",
              "          '<a target=\"_blank\" href=https://colab.research.google.com/notebooks/data_table.ipynb>data table notebook</a>'\n",
              "          + ' to learn more about interactive tables.';\n",
              "        element.innerHTML = '';\n",
              "        dataTable['output_type'] = 'display_data';\n",
              "        await google.colab.output.renderOutput(dataTable, element);\n",
              "        const docLink = document.createElement('div');\n",
              "        docLink.innerHTML = docLinkHtml;\n",
              "        element.appendChild(docLink);\n",
              "      }\n",
              "    </script>\n",
              "  </div>\n",
              "\n",
              "\n",
              "<div id=\"df-4b95e29a-6824-4de5-a766-8e3be71d92e7\">\n",
              "  <button class=\"colab-df-quickchart\" onclick=\"quickchart('df-4b95e29a-6824-4de5-a766-8e3be71d92e7')\"\n",
              "            title=\"Suggest charts\"\n",
              "            style=\"display:none;\">\n",
              "\n",
              "<svg xmlns=\"http://www.w3.org/2000/svg\" height=\"24px\"viewBox=\"0 0 24 24\"\n",
              "     width=\"24px\">\n",
              "    <g>\n",
              "        <path d=\"M19 3H5c-1.1 0-2 .9-2 2v14c0 1.1.9 2 2 2h14c1.1 0 2-.9 2-2V5c0-1.1-.9-2-2-2zM9 17H7v-7h2v7zm4 0h-2V7h2v10zm4 0h-2v-4h2v4z\"/>\n",
              "    </g>\n",
              "</svg>\n",
              "  </button>\n",
              "\n",
              "<style>\n",
              "  .colab-df-quickchart {\n",
              "      --bg-color: #E8F0FE;\n",
              "      --fill-color: #1967D2;\n",
              "      --hover-bg-color: #E2EBFA;\n",
              "      --hover-fill-color: #174EA6;\n",
              "      --disabled-fill-color: #AAA;\n",
              "      --disabled-bg-color: #DDD;\n",
              "  }\n",
              "\n",
              "  [theme=dark] .colab-df-quickchart {\n",
              "      --bg-color: #3B4455;\n",
              "      --fill-color: #D2E3FC;\n",
              "      --hover-bg-color: #434B5C;\n",
              "      --hover-fill-color: #FFFFFF;\n",
              "      --disabled-bg-color: #3B4455;\n",
              "      --disabled-fill-color: #666;\n",
              "  }\n",
              "\n",
              "  .colab-df-quickchart {\n",
              "    background-color: var(--bg-color);\n",
              "    border: none;\n",
              "    border-radius: 50%;\n",
              "    cursor: pointer;\n",
              "    display: none;\n",
              "    fill: var(--fill-color);\n",
              "    height: 32px;\n",
              "    padding: 0;\n",
              "    width: 32px;\n",
              "  }\n",
              "\n",
              "  .colab-df-quickchart:hover {\n",
              "    background-color: var(--hover-bg-color);\n",
              "    box-shadow: 0 1px 2px rgba(60, 64, 67, 0.3), 0 1px 3px 1px rgba(60, 64, 67, 0.15);\n",
              "    fill: var(--button-hover-fill-color);\n",
              "  }\n",
              "\n",
              "  .colab-df-quickchart-complete:disabled,\n",
              "  .colab-df-quickchart-complete:disabled:hover {\n",
              "    background-color: var(--disabled-bg-color);\n",
              "    fill: var(--disabled-fill-color);\n",
              "    box-shadow: none;\n",
              "  }\n",
              "\n",
              "  .colab-df-spinner {\n",
              "    border: 2px solid var(--fill-color);\n",
              "    border-color: transparent;\n",
              "    border-bottom-color: var(--fill-color);\n",
              "    animation:\n",
              "      spin 1s steps(1) infinite;\n",
              "  }\n",
              "\n",
              "  @keyframes spin {\n",
              "    0% {\n",
              "      border-color: transparent;\n",
              "      border-bottom-color: var(--fill-color);\n",
              "      border-left-color: var(--fill-color);\n",
              "    }\n",
              "    20% {\n",
              "      border-color: transparent;\n",
              "      border-left-color: var(--fill-color);\n",
              "      border-top-color: var(--fill-color);\n",
              "    }\n",
              "    30% {\n",
              "      border-color: transparent;\n",
              "      border-left-color: var(--fill-color);\n",
              "      border-top-color: var(--fill-color);\n",
              "      border-right-color: var(--fill-color);\n",
              "    }\n",
              "    40% {\n",
              "      border-color: transparent;\n",
              "      border-right-color: var(--fill-color);\n",
              "      border-top-color: var(--fill-color);\n",
              "    }\n",
              "    60% {\n",
              "      border-color: transparent;\n",
              "      border-right-color: var(--fill-color);\n",
              "    }\n",
              "    80% {\n",
              "      border-color: transparent;\n",
              "      border-right-color: var(--fill-color);\n",
              "      border-bottom-color: var(--fill-color);\n",
              "    }\n",
              "    90% {\n",
              "      border-color: transparent;\n",
              "      border-bottom-color: var(--fill-color);\n",
              "    }\n",
              "  }\n",
              "</style>\n",
              "\n",
              "  <script>\n",
              "    async function quickchart(key) {\n",
              "      const quickchartButtonEl =\n",
              "        document.querySelector('#' + key + ' button');\n",
              "      quickchartButtonEl.disabled = true;  // To prevent multiple clicks.\n",
              "      quickchartButtonEl.classList.add('colab-df-spinner');\n",
              "      try {\n",
              "        const charts = await google.colab.kernel.invokeFunction(\n",
              "            'suggestCharts', [key], {});\n",
              "      } catch (error) {\n",
              "        console.error('Error during call to suggestCharts:', error);\n",
              "      }\n",
              "      quickchartButtonEl.classList.remove('colab-df-spinner');\n",
              "      quickchartButtonEl.classList.add('colab-df-quickchart-complete');\n",
              "    }\n",
              "    (() => {\n",
              "      let quickchartButtonEl =\n",
              "        document.querySelector('#df-4b95e29a-6824-4de5-a766-8e3be71d92e7 button');\n",
              "      quickchartButtonEl.style.display =\n",
              "        google.colab.kernel.accessAllowed ? 'block' : 'none';\n",
              "    })();\n",
              "  </script>\n",
              "</div>\n",
              "\n",
              "    </div>\n",
              "  </div>\n"
            ],
            "application/vnd.google.colaboratory.intrinsic+json": {
              "type": "dataframe",
              "summary": "{\n  \"name\": \"df\",\n  \"rows\": 8,\n  \"fields\": [\n    {\n      \"column\": \"a\",\n      \"properties\": {\n        \"dtype\": \"number\",\n        \"std\": 0.8017837257372732,\n        \"min\": 1.0,\n        \"max\": 3.0,\n        \"num_unique_values\": 5,\n        \"samples\": [\n          2.0,\n          2.5,\n          1.0\n        ],\n        \"semantic_type\": \"\",\n        \"description\": \"\"\n      }\n    },\n    {\n      \"column\": \"b\",\n      \"properties\": {\n        \"dtype\": \"number\",\n        \"std\": 1.6035674514745464,\n        \"min\": 1.0,\n        \"max\": 6.0,\n        \"num_unique_values\": 7,\n        \"samples\": [\n          3.0,\n          5.0,\n          5.5\n        ],\n        \"semantic_type\": \"\",\n        \"description\": \"\"\n      }\n    }\n  ]\n}"
            }
          },
          "metadata": {},
          "execution_count": 34
        }
      ]
    },
    {
      "cell_type": "code",
      "source": [
        "from tabulate import tabulate\n",
        "import pandas as pd\n",
        "\n",
        "# Example function for pretty print\n",
        "def pretty_print(title, df, n):\n",
        "    print(f\"\\n{title}:\")\n",
        "    if isinstance(df, pd.DataFrame):\n",
        "        print(tabulate(df.head(n), headers='keys', tablefmt='psql'))\n",
        "    else:\n",
        "        print(\"Error: Input is not a Pandas DataFrame\")\n",
        "\n",
        "# Example usage:\n",
        "# Assuming df is your Pandas DataFrame\n",
        "df = pd.DataFrame({'A': [1, 2, 3], 'B': [4, 5, 6], 'C': [7, 8, 9]})\n",
        "\n",
        "# Call pretty_print function\n",
        "pretty_print(\"Example DataFrame\", df, 5)\n",
        "\n",
        "\n"
      ],
      "metadata": {
        "id": "T1IZG0zn6Gsj",
        "outputId": "94686f70-d34d-4095-a694-8084cc7bdd1a",
        "colab": {
          "base_uri": "https://localhost:8080/"
        }
      },
      "execution_count": null,
      "outputs": [
        {
          "output_type": "stream",
          "name": "stdout",
          "text": [
            "\n",
            "Example DataFrame:\n",
            "+----+-----+-----+-----+\n",
            "|    |   A |   B |   C |\n",
            "|----+-----+-----+-----|\n",
            "|  0 |   1 |   4 |   7 |\n",
            "|  1 |   2 |   5 |   8 |\n",
            "|  2 |   3 |   6 |   9 |\n",
            "+----+-----+-----+-----+\n"
          ]
        }
      ]
    },
    {
      "cell_type": "code",
      "source": [
        "import pandas as pd\n",
        "\n",
        "# Example DataFrame\n",
        "data = {'name': ['Alice', 'Bob', 'Charlie', 'David'],\n",
        "        'age': [25, 30, 25, 35]}\n",
        "df = pd.DataFrame(data)\n",
        "\n",
        "# Using df[\"age\"].unique() to get unique values of \"age\" column\n",
        "lst_age = df[\"age\"].unique()\n",
        "\n",
        "# Print the unique values\n",
        "print(lst_age)\n",
        "\n",
        "\n"
      ],
      "metadata": {
        "id": "LaNoqR8x6GvA",
        "outputId": "1bfd7a3c-ab9b-4e41-ec99-3c2f2716115a",
        "colab": {
          "base_uri": "https://localhost:8080/"
        }
      },
      "execution_count": null,
      "outputs": [
        {
          "output_type": "stream",
          "name": "stdout",
          "text": [
            "[25 30 35]\n"
          ]
        }
      ]
    },
    {
      "cell_type": "code",
      "source": [
        "import pandas as pd\n",
        "\n",
        "# Example DataFrame\n",
        "data = {'CLIENTCODE': ['A', 'B', 'A', 'C', 'B'],\n",
        "        'age': [25, 30, 25, 35, 30]}\n",
        "df = pd.DataFrame(data)\n",
        "\n",
        "# Count occurrences of each value in \"age\" column\n",
        "age_counts = df[\"age\"].value_counts()\n",
        "print(\"Value counts of age column:\")\n",
        "print(age_counts)\n",
        "\n",
        "# Group by \"age\" and count unique values of \"CLIENTCODE\"\n",
        "age_client_counts = df.groupby(\"age\")[\"CLIENTCODE\"].nunique()\n",
        "print(\"\\nGrouped count of unique CLIENTCODEs by age:\")\n",
        "print(age_client_counts)\n",
        "\n",
        "\n"
      ],
      "metadata": {
        "id": "5QKftZjS6Gxn",
        "outputId": "b41dc2fd-b75d-4117-f3ca-a46eb421c0f2",
        "colab": {
          "base_uri": "https://localhost:8080/"
        }
      },
      "execution_count": null,
      "outputs": [
        {
          "output_type": "stream",
          "name": "stdout",
          "text": [
            "Value counts of age column:\n",
            "age\n",
            "25    2\n",
            "30    2\n",
            "35    1\n",
            "Name: count, dtype: int64\n",
            "\n",
            "Grouped count of unique CLIENTCODEs by age:\n",
            "age\n",
            "25    1\n",
            "30    1\n",
            "35    1\n",
            "Name: CLIENTCODE, dtype: int64\n"
          ]
        }
      ]
    },
    {
      "cell_type": "code",
      "source": [
        "import pandas as pd\n",
        "\n",
        "data = {'state': [\"CA\", \"CA\", \"TX\", \"NC\", \"SC\"], 'deaths': [6, 11, 4, 5, 9]}\n",
        "df = pd.DataFrame(data)\n",
        "\n",
        "df2 = df.groupby('state')['deaths'].nunique().to_frame('deaths').reset_index()\n",
        "df2.head(10)\n",
        "\n",
        "\n"
      ],
      "metadata": {
        "id": "wZLvDpJh6G0T",
        "outputId": "80eea316-0036-4d13-8eca-494657590611",
        "colab": {
          "base_uri": "https://localhost:8080/",
          "height": 175
        }
      },
      "execution_count": null,
      "outputs": [
        {
          "output_type": "execute_result",
          "data": {
            "text/plain": [
              "  state  deaths\n",
              "0    CA       2\n",
              "1    NC       1\n",
              "2    SC       1\n",
              "3    TX       1"
            ],
            "text/html": [
              "\n",
              "  <div id=\"df-53330a17-b57b-4087-b8df-616022b74295\" class=\"colab-df-container\">\n",
              "    <div>\n",
              "<style scoped>\n",
              "    .dataframe tbody tr th:only-of-type {\n",
              "        vertical-align: middle;\n",
              "    }\n",
              "\n",
              "    .dataframe tbody tr th {\n",
              "        vertical-align: top;\n",
              "    }\n",
              "\n",
              "    .dataframe thead th {\n",
              "        text-align: right;\n",
              "    }\n",
              "</style>\n",
              "<table border=\"1\" class=\"dataframe\">\n",
              "  <thead>\n",
              "    <tr style=\"text-align: right;\">\n",
              "      <th></th>\n",
              "      <th>state</th>\n",
              "      <th>deaths</th>\n",
              "    </tr>\n",
              "  </thead>\n",
              "  <tbody>\n",
              "    <tr>\n",
              "      <th>0</th>\n",
              "      <td>CA</td>\n",
              "      <td>2</td>\n",
              "    </tr>\n",
              "    <tr>\n",
              "      <th>1</th>\n",
              "      <td>NC</td>\n",
              "      <td>1</td>\n",
              "    </tr>\n",
              "    <tr>\n",
              "      <th>2</th>\n",
              "      <td>SC</td>\n",
              "      <td>1</td>\n",
              "    </tr>\n",
              "    <tr>\n",
              "      <th>3</th>\n",
              "      <td>TX</td>\n",
              "      <td>1</td>\n",
              "    </tr>\n",
              "  </tbody>\n",
              "</table>\n",
              "</div>\n",
              "    <div class=\"colab-df-buttons\">\n",
              "\n",
              "  <div class=\"colab-df-container\">\n",
              "    <button class=\"colab-df-convert\" onclick=\"convertToInteractive('df-53330a17-b57b-4087-b8df-616022b74295')\"\n",
              "            title=\"Convert this dataframe to an interactive table.\"\n",
              "            style=\"display:none;\">\n",
              "\n",
              "  <svg xmlns=\"http://www.w3.org/2000/svg\" height=\"24px\" viewBox=\"0 -960 960 960\">\n",
              "    <path d=\"M120-120v-720h720v720H120Zm60-500h600v-160H180v160Zm220 220h160v-160H400v160Zm0 220h160v-160H400v160ZM180-400h160v-160H180v160Zm440 0h160v-160H620v160ZM180-180h160v-160H180v160Zm440 0h160v-160H620v160Z\"/>\n",
              "  </svg>\n",
              "    </button>\n",
              "\n",
              "  <style>\n",
              "    .colab-df-container {\n",
              "      display:flex;\n",
              "      gap: 12px;\n",
              "    }\n",
              "\n",
              "    .colab-df-convert {\n",
              "      background-color: #E8F0FE;\n",
              "      border: none;\n",
              "      border-radius: 50%;\n",
              "      cursor: pointer;\n",
              "      display: none;\n",
              "      fill: #1967D2;\n",
              "      height: 32px;\n",
              "      padding: 0 0 0 0;\n",
              "      width: 32px;\n",
              "    }\n",
              "\n",
              "    .colab-df-convert:hover {\n",
              "      background-color: #E2EBFA;\n",
              "      box-shadow: 0px 1px 2px rgba(60, 64, 67, 0.3), 0px 1px 3px 1px rgba(60, 64, 67, 0.15);\n",
              "      fill: #174EA6;\n",
              "    }\n",
              "\n",
              "    .colab-df-buttons div {\n",
              "      margin-bottom: 4px;\n",
              "    }\n",
              "\n",
              "    [theme=dark] .colab-df-convert {\n",
              "      background-color: #3B4455;\n",
              "      fill: #D2E3FC;\n",
              "    }\n",
              "\n",
              "    [theme=dark] .colab-df-convert:hover {\n",
              "      background-color: #434B5C;\n",
              "      box-shadow: 0px 1px 3px 1px rgba(0, 0, 0, 0.15);\n",
              "      filter: drop-shadow(0px 1px 2px rgba(0, 0, 0, 0.3));\n",
              "      fill: #FFFFFF;\n",
              "    }\n",
              "  </style>\n",
              "\n",
              "    <script>\n",
              "      const buttonEl =\n",
              "        document.querySelector('#df-53330a17-b57b-4087-b8df-616022b74295 button.colab-df-convert');\n",
              "      buttonEl.style.display =\n",
              "        google.colab.kernel.accessAllowed ? 'block' : 'none';\n",
              "\n",
              "      async function convertToInteractive(key) {\n",
              "        const element = document.querySelector('#df-53330a17-b57b-4087-b8df-616022b74295');\n",
              "        const dataTable =\n",
              "          await google.colab.kernel.invokeFunction('convertToInteractive',\n",
              "                                                    [key], {});\n",
              "        if (!dataTable) return;\n",
              "\n",
              "        const docLinkHtml = 'Like what you see? Visit the ' +\n",
              "          '<a target=\"_blank\" href=https://colab.research.google.com/notebooks/data_table.ipynb>data table notebook</a>'\n",
              "          + ' to learn more about interactive tables.';\n",
              "        element.innerHTML = '';\n",
              "        dataTable['output_type'] = 'display_data';\n",
              "        await google.colab.output.renderOutput(dataTable, element);\n",
              "        const docLink = document.createElement('div');\n",
              "        docLink.innerHTML = docLinkHtml;\n",
              "        element.appendChild(docLink);\n",
              "      }\n",
              "    </script>\n",
              "  </div>\n",
              "\n",
              "\n",
              "<div id=\"df-0848d677-8b05-4b1f-b8f8-a6d503731ede\">\n",
              "  <button class=\"colab-df-quickchart\" onclick=\"quickchart('df-0848d677-8b05-4b1f-b8f8-a6d503731ede')\"\n",
              "            title=\"Suggest charts\"\n",
              "            style=\"display:none;\">\n",
              "\n",
              "<svg xmlns=\"http://www.w3.org/2000/svg\" height=\"24px\"viewBox=\"0 0 24 24\"\n",
              "     width=\"24px\">\n",
              "    <g>\n",
              "        <path d=\"M19 3H5c-1.1 0-2 .9-2 2v14c0 1.1.9 2 2 2h14c1.1 0 2-.9 2-2V5c0-1.1-.9-2-2-2zM9 17H7v-7h2v7zm4 0h-2V7h2v10zm4 0h-2v-4h2v4z\"/>\n",
              "    </g>\n",
              "</svg>\n",
              "  </button>\n",
              "\n",
              "<style>\n",
              "  .colab-df-quickchart {\n",
              "      --bg-color: #E8F0FE;\n",
              "      --fill-color: #1967D2;\n",
              "      --hover-bg-color: #E2EBFA;\n",
              "      --hover-fill-color: #174EA6;\n",
              "      --disabled-fill-color: #AAA;\n",
              "      --disabled-bg-color: #DDD;\n",
              "  }\n",
              "\n",
              "  [theme=dark] .colab-df-quickchart {\n",
              "      --bg-color: #3B4455;\n",
              "      --fill-color: #D2E3FC;\n",
              "      --hover-bg-color: #434B5C;\n",
              "      --hover-fill-color: #FFFFFF;\n",
              "      --disabled-bg-color: #3B4455;\n",
              "      --disabled-fill-color: #666;\n",
              "  }\n",
              "\n",
              "  .colab-df-quickchart {\n",
              "    background-color: var(--bg-color);\n",
              "    border: none;\n",
              "    border-radius: 50%;\n",
              "    cursor: pointer;\n",
              "    display: none;\n",
              "    fill: var(--fill-color);\n",
              "    height: 32px;\n",
              "    padding: 0;\n",
              "    width: 32px;\n",
              "  }\n",
              "\n",
              "  .colab-df-quickchart:hover {\n",
              "    background-color: var(--hover-bg-color);\n",
              "    box-shadow: 0 1px 2px rgba(60, 64, 67, 0.3), 0 1px 3px 1px rgba(60, 64, 67, 0.15);\n",
              "    fill: var(--button-hover-fill-color);\n",
              "  }\n",
              "\n",
              "  .colab-df-quickchart-complete:disabled,\n",
              "  .colab-df-quickchart-complete:disabled:hover {\n",
              "    background-color: var(--disabled-bg-color);\n",
              "    fill: var(--disabled-fill-color);\n",
              "    box-shadow: none;\n",
              "  }\n",
              "\n",
              "  .colab-df-spinner {\n",
              "    border: 2px solid var(--fill-color);\n",
              "    border-color: transparent;\n",
              "    border-bottom-color: var(--fill-color);\n",
              "    animation:\n",
              "      spin 1s steps(1) infinite;\n",
              "  }\n",
              "\n",
              "  @keyframes spin {\n",
              "    0% {\n",
              "      border-color: transparent;\n",
              "      border-bottom-color: var(--fill-color);\n",
              "      border-left-color: var(--fill-color);\n",
              "    }\n",
              "    20% {\n",
              "      border-color: transparent;\n",
              "      border-left-color: var(--fill-color);\n",
              "      border-top-color: var(--fill-color);\n",
              "    }\n",
              "    30% {\n",
              "      border-color: transparent;\n",
              "      border-left-color: var(--fill-color);\n",
              "      border-top-color: var(--fill-color);\n",
              "      border-right-color: var(--fill-color);\n",
              "    }\n",
              "    40% {\n",
              "      border-color: transparent;\n",
              "      border-right-color: var(--fill-color);\n",
              "      border-top-color: var(--fill-color);\n",
              "    }\n",
              "    60% {\n",
              "      border-color: transparent;\n",
              "      border-right-color: var(--fill-color);\n",
              "    }\n",
              "    80% {\n",
              "      border-color: transparent;\n",
              "      border-right-color: var(--fill-color);\n",
              "      border-bottom-color: var(--fill-color);\n",
              "    }\n",
              "    90% {\n",
              "      border-color: transparent;\n",
              "      border-bottom-color: var(--fill-color);\n",
              "    }\n",
              "  }\n",
              "</style>\n",
              "\n",
              "  <script>\n",
              "    async function quickchart(key) {\n",
              "      const quickchartButtonEl =\n",
              "        document.querySelector('#' + key + ' button');\n",
              "      quickchartButtonEl.disabled = true;  // To prevent multiple clicks.\n",
              "      quickchartButtonEl.classList.add('colab-df-spinner');\n",
              "      try {\n",
              "        const charts = await google.colab.kernel.invokeFunction(\n",
              "            'suggestCharts', [key], {});\n",
              "      } catch (error) {\n",
              "        console.error('Error during call to suggestCharts:', error);\n",
              "      }\n",
              "      quickchartButtonEl.classList.remove('colab-df-spinner');\n",
              "      quickchartButtonEl.classList.add('colab-df-quickchart-complete');\n",
              "    }\n",
              "    (() => {\n",
              "      let quickchartButtonEl =\n",
              "        document.querySelector('#df-0848d677-8b05-4b1f-b8f8-a6d503731ede button');\n",
              "      quickchartButtonEl.style.display =\n",
              "        google.colab.kernel.accessAllowed ? 'block' : 'none';\n",
              "    })();\n",
              "  </script>\n",
              "</div>\n",
              "\n",
              "    </div>\n",
              "  </div>\n"
            ],
            "application/vnd.google.colaboratory.intrinsic+json": {
              "type": "dataframe",
              "variable_name": "df2",
              "summary": "{\n  \"name\": \"df2\",\n  \"rows\": 4,\n  \"fields\": [\n    {\n      \"column\": \"state\",\n      \"properties\": {\n        \"dtype\": \"string\",\n        \"num_unique_values\": 4,\n        \"samples\": [\n          \"NC\",\n          \"TX\",\n          \"CA\"\n        ],\n        \"semantic_type\": \"\",\n        \"description\": \"\"\n      }\n    },\n    {\n      \"column\": \"deaths\",\n      \"properties\": {\n        \"dtype\": \"number\",\n        \"std\": 0,\n        \"min\": 1,\n        \"max\": 2,\n        \"num_unique_values\": 2,\n        \"samples\": [\n          1,\n          2\n        ],\n        \"semantic_type\": \"\",\n        \"description\": \"\"\n      }\n    }\n  ]\n}"
            }
          },
          "metadata": {},
          "execution_count": 42
        }
      ]
    },
    {
      "cell_type": "code",
      "source": [
        "import pandas as pd\n",
        "import os\n",
        "\n",
        "# input file\n",
        "file_name = 'openpowerlifting-2021-12-10-b420db66.csv'\n",
        "\n",
        "# Check if the file exists\n",
        "if not os.path.isfile(file_name):\n",
        "    print(f\"File not found: {file_name}\")\n",
        "else:\n",
        "    # read csv file\n",
        "    df_in_power = pd.read_csv(file_name)\n",
        "\n",
        "    # men only\n",
        "    df_state_male = df_in_power.loc[df_in_power['Sex'] == \"M\"]\\\n",
        "                               .groupby(['State'])\\\n",
        "                               .size()\\\n",
        "                               .to_frame('count')\\\n",
        "                               .reset_index()\n",
        "\n",
        "    # sort by count\n",
        "    df_sorted = df_state_male.sort_values(by=['count'], ascending=False)\n",
        "\n",
        "    print(df_sorted.head(10))\n"
      ],
      "metadata": {
        "id": "pyY-DyaJ6HKx",
        "outputId": "07457579-2fd9-4270-c4e1-ae779f72e0c4",
        "colab": {
          "base_uri": "https://localhost:8080/"
        }
      },
      "execution_count": null,
      "outputs": [
        {
          "output_type": "stream",
          "name": "stdout",
          "text": [
            "File not found: openpowerlifting-2021-12-10-b420db66.csv\n"
          ]
        }
      ]
    },
    {
      "cell_type": "code",
      "source": [
        "import pandas as pd\n",
        "import os\n",
        "\n",
        "# Assume df is your DataFrame\n",
        "df = pd.DataFrame(data)\n",
        "\n",
        "# write in current folder\n",
        "df.to_csv('./out.csv', index=False, header=True)\n",
        "\n",
        "# Path to the downloads folder\n",
        "downloads_path = os.path.expanduser('~/Downloads')\n",
        "\n",
        "# Create the downloads folder if it does not exist\n",
        "os.makedirs(downloads_path, exist_ok=True)\n",
        "\n",
        "# write in downloads folder\n",
        "df.to_csv(os.path.join(downloads_path, 'out.csv'), index=False, header=True)\n"
      ],
      "metadata": {
        "id": "NEufDD_Z4i4E"
      },
      "execution_count": null,
      "outputs": []
    },
    {
      "cell_type": "code",
      "source": [
        "\n",
        "{\n",
        "\"name\":\"John\",\n",
        "\"age\":30,\n",
        "\"cars\":[\"Ford\", \"BMW\", \"Fiat\"]\n",
        "}\n",
        "\n"
      ],
      "metadata": {
        "id": "WUYCX4oX4i68",
        "colab": {
          "base_uri": "https://localhost:8080/"
        },
        "outputId": "87374ade-aa21-490b-b8cf-6bfb89452357"
      },
      "execution_count": null,
      "outputs": [
        {
          "output_type": "execute_result",
          "data": {
            "text/plain": [
              "{'name': 'John', 'age': 30, 'cars': ['Ford', 'BMW', 'Fiat']}"
            ]
          },
          "metadata": {},
          "execution_count": 1
        }
      ]
    },
    {
      "cell_type": "code",
      "source": [
        "# Dict to JSON example one\n",
        "import json\n",
        "# dictionary data to convert as a JSON object\n",
        "dict_pets = {1: 'dog', 2: 'cat',\n",
        "            3: 'horse', 4: 'elephant',\n",
        "            5: 'tiger'}\n",
        "# prints \"dict\"\n",
        "print(type(dict_pets))\n",
        "# save as JSON object\n",
        "js_data = json.dumps(dict_pets)\n",
        "# prints \"dict\"\n",
        "print(type(dict_pets))\n",
        "# prints with \"\" for key-value (wrong json)\n",
        "print(dict_pets)\n",
        "# prints with \"\" for key-value (correct json)\n",
        "print(js_data)\n",
        "\n",
        "\n",
        "\n"
      ],
      "metadata": {
        "id": "J9i4QodN4i-T",
        "colab": {
          "base_uri": "https://localhost:8080/"
        },
        "outputId": "1d331ca4-dbfd-4439-f6fb-6a31402ea77c"
      },
      "execution_count": null,
      "outputs": [
        {
          "output_type": "stream",
          "name": "stdout",
          "text": [
            "<class 'dict'>\n",
            "<class 'dict'>\n",
            "{1: 'dog', 2: 'cat', 3: 'horse', 4: 'elephant', 5: 'tiger'}\n",
            "{\"1\": \"dog\", \"2\": \"cat\", \"3\": \"horse\", \"4\": \"elephant\", \"5\": \"tiger\"}\n"
          ]
        }
      ]
    },
    {
      "cell_type": "code",
      "source": [
        "import json\n",
        "\n",
        "# Declare the dictionary data\n",
        "dict_data = {\n",
        "    \"name\": \"John Doe\",\n",
        "    \"age\": 30,\n",
        "    \"city\": \"New York\"\n",
        "}\n",
        "\n",
        "# Write the dictionary to a JSON file\n",
        "with open('data.json', 'w') as outfile:\n",
        "   json.dump(dict_data, outfile)\n",
        "\n",
        "# Optional: Print the dictionary to verify\n",
        "print(dict_data)\n"
      ],
      "metadata": {
        "colab": {
          "base_uri": "https://localhost:8080/"
        },
        "id": "K3ycO_6TesCe",
        "outputId": "ab1d06aa-8661-48b3-d378-ef12a4b71875"
      },
      "execution_count": null,
      "outputs": [
        {
          "output_type": "stream",
          "name": "stdout",
          "text": [
            "{'name': 'John Doe', 'age': 30, 'city': 'New York'}\n"
          ]
        }
      ]
    },
    {
      "cell_type": "code",
      "source": [
        "import os\n",
        "import json\n",
        "# json file name with/without path\n",
        "path_in_pet = \"data.json\"\n",
        "# check if file exists\n",
        "if os.path.exists(path_in_pet):\n",
        "   # open in read mode\n",
        "   with open(path_in_pet, 'r') as f:\n",
        "       # read data\n",
        "       dict_data = json.load(f)\n",
        "       # prints dict\n",
        "       print(type(dict_data))\n",
        "       # print content\n",
        "       print(dict_data)\n",
        "\n"
      ],
      "metadata": {
        "colab": {
          "base_uri": "https://localhost:8080/"
        },
        "id": "KUaa09HhesFn",
        "outputId": "9cd32872-451f-4264-a9b6-882a830520e8"
      },
      "execution_count": null,
      "outputs": [
        {
          "output_type": "stream",
          "name": "stdout",
          "text": [
            "<class 'dict'>\n",
            "{'name': 'John Doe', 'age': 30, 'city': 'New York'}\n"
          ]
        }
      ]
    },
    {
      "cell_type": "code",
      "source": [
        "import pandas as pd\n",
        "\n",
        "# Create a sample DataFrame\n",
        "data = {\n",
        "    'col1': ['1', '2', '3'],\n",
        "    'col2': ['4.5', '5.6', '6.7']\n",
        "}\n",
        "df = pd.DataFrame(data)\n",
        "\n",
        "# Convert 'col1' to int32\n",
        "df['col1'] = df['col1'].astype('int32')\n",
        "\n",
        "# Convert 'col2' to float\n",
        "df['col2'] = df['col2'].astype('float64')\n",
        "\n",
        "# Print the data types to verify the change\n",
        "print(df.dtypes)\n"
      ],
      "metadata": {
        "colab": {
          "base_uri": "https://localhost:8080/"
        },
        "id": "XHCFWur8esLx",
        "outputId": "b465bbab-9c51-411a-c2f2-4d0667a48701"
      },
      "execution_count": null,
      "outputs": [
        {
          "output_type": "stream",
          "name": "stdout",
          "text": [
            "col1      int32\n",
            "col2    float64\n",
            "dtype: object\n"
          ]
        }
      ]
    },
    {
      "cell_type": "code",
      "source": [
        "# int to string\n",
        "age = 20\n",
        "print(\"age is \" + str(age))\n",
        "\n",
        "# int to float\n",
        "salary = 10\n",
        "f_salary = float(salary)\n",
        "\n",
        "# float to int\n",
        "salary = 10.11\n",
        "# convert to integer\n",
        "i_salary = int(salary)\n",
        "\n",
        "# Optional: Print the results to verify\n",
        "print(f\"age: {age} (type: {type(age)})\")\n",
        "print(f\"f_salary: {f_salary} (type: {type(f_salary)})\")\n",
        "print(f\"i_salary: {i_salary} (type: {type(i_salary)})\")\n"
      ],
      "metadata": {
        "colab": {
          "base_uri": "https://localhost:8080/"
        },
        "id": "isxg-GeEesUY",
        "outputId": "6cb830d5-db13-485e-f9f8-cb8d9cb38d60"
      },
      "execution_count": null,
      "outputs": [
        {
          "output_type": "stream",
          "name": "stdout",
          "text": [
            "age is 20\n",
            "age: 20 (type: <class 'int'>)\n",
            "f_salary: 10.0 (type: <class 'float'>)\n",
            "i_salary: 10 (type: <class 'int'>)\n"
          ]
        }
      ]
    },
    {
      "cell_type": "code",
      "source": [
        "from dateutil import parser\n",
        "from datetime import datetime\n",
        "# approach 1\n",
        "dt = parser.parse(\"Jun 1 2021  1:11PM\")\n",
        "print(dt)\n",
        "# approach 2\n",
        "datetime_object = datetime.strptime('Jun 1 2021  1:11PM', '%b %d %Y %I:%M%p')\n",
        "print(datetime_object)\n",
        "\n"
      ],
      "metadata": {
        "colab": {
          "base_uri": "https://localhost:8080/"
        },
        "id": "hPQh9RuPesXH",
        "outputId": "9cac8257-f448-428d-dd9d-49f4b7a92309"
      },
      "execution_count": null,
      "outputs": [
        {
          "output_type": "stream",
          "name": "stdout",
          "text": [
            "2021-06-01 13:11:00\n",
            "2021-06-01 13:11:00\n"
          ]
        }
      ]
    },
    {
      "cell_type": "code",
      "source": [
        "# approach 1\n",
        "amount = 20.123456789\n",
        "f_amount = float(\"{:.2f}\".format(amount))\n",
        "print(f_amount)\n",
        "# approach 2\n",
        "amount = 20.123456789\n",
        "f_amount =  round(amount, 2)\n",
        "print(f_amount)\n",
        "\n"
      ],
      "metadata": {
        "colab": {
          "base_uri": "https://localhost:8080/"
        },
        "id": "m245D0_aesZ_",
        "outputId": "b039b09b-5d93-4cd8-bc98-bc41454fd63b"
      },
      "execution_count": null,
      "outputs": [
        {
          "output_type": "stream",
          "name": "stdout",
          "text": [
            "20.12\n",
            "20.12\n"
          ]
        }
      ]
    },
    {
      "cell_type": "code",
      "source": [
        "def to_lowercase(in_str):\n",
        "   return str(in_str).lower()\n",
        "# text to be converted\n",
        "text = \"How are you?\"\n",
        "# convert string to lowercase\n",
        "text = to_lowercase(text)\n",
        "print(text)\n",
        "\n"
      ],
      "metadata": {
        "colab": {
          "base_uri": "https://localhost:8080/"
        },
        "id": "DghhN4QZescp",
        "outputId": "e472c7b0-a607-4965-cf87-45aba4e63939"
      },
      "execution_count": null,
      "outputs": [
        {
          "output_type": "stream",
          "name": "stdout",
          "text": [
            "how are you?\n"
          ]
        }
      ]
    },
    {
      "cell_type": "code",
      "source": [
        "text = \"This is first line \\n This is second line\"\n",
        "print(text)\n",
        "# replace new line with blank space\n",
        "text_clean = text.replace(\"\\n\", \"\")\n",
        "print(text_clean)\n",
        "\n"
      ],
      "metadata": {
        "colab": {
          "base_uri": "https://localhost:8080/"
        },
        "id": "zgUfhkljesfm",
        "outputId": "fe39feb3-c6fd-4868-8764-08c9e328790f"
      },
      "execution_count": null,
      "outputs": [
        {
          "output_type": "stream",
          "name": "stdout",
          "text": [
            "This is first line \n",
            " This is second line\n",
            "This is first line  This is second line\n"
          ]
        }
      ]
    },
    {
      "cell_type": "code",
      "source": [
        "import re\n",
        "in_str = \"Hi, Where are you from?\"\n",
        "str_clean = re.sub(r'\\W+', ' ', in_str)\n",
        "# prints -> Hi Where are you from\n",
        "print(str_clean)\n",
        "\n"
      ],
      "metadata": {
        "colab": {
          "base_uri": "https://localhost:8080/"
        },
        "id": "uDdnbuA2esiS",
        "outputId": "65d899f6-4a85-4683-d072-f31f6e32444a"
      },
      "execution_count": null,
      "outputs": [
        {
          "output_type": "stream",
          "name": "stdout",
          "text": [
            "Hi Where are you from \n"
          ]
        }
      ]
    },
    {
      "cell_type": "code",
      "source": [
        "import re\n",
        "in_str = \"Hi, Where are you from?\"\n",
        "str_clean = re.sub(r'\\W+', ' ', in_str)\n",
        "# prints -> Hi Where are you from\n",
        "print(str_clean)\n",
        "\n"
      ],
      "metadata": {
        "colab": {
          "base_uri": "https://localhost:8080/"
        },
        "id": "YjIKsN_feslV",
        "outputId": "65f8b636-288e-4838-ba2f-df6aad97eb07"
      },
      "execution_count": null,
      "outputs": [
        {
          "output_type": "stream",
          "name": "stdout",
          "text": [
            "Hi Where are you from \n"
          ]
        }
      ]
    },
    {
      "cell_type": "code",
      "source": [
        "# dictionary that helps to normalise\n",
        "dict_norm = {\"puppyhood\": \"dog\",\n",
        "         \t\"puppyish\": \"dog\",\n",
        "         \t\"puppylike\": \"dog\"\n",
        "        \t}\n",
        "# dictionary that needs transformation in its value\n",
        "dict_species = {\"caesar\": \"puppyhood\", \"ryan\": \"dog\", \"leela\": \"cat\"}\n",
        "# create new dictionary to hold the normalised output\n",
        "dict_species_norm = {}\n",
        "# iterate items in dict\n",
        "for key, value in dict_species.items():\n",
        "\t# if value exists in key of dict_norm\n",
        "\tif value in dict_norm.keys():\n",
        "    \t   dict_species_norm[key] = dict_norm[value]\n",
        "\telse:\n",
        "    \t   dict_species_norm[key] = value\n",
        "# prints -> {\"caesar\": \"dog\", \"ryan\": \"dog\", \"leela\": \"cat\"}\n",
        "print(dict_species_norm)\n",
        "\n"
      ],
      "metadata": {
        "colab": {
          "base_uri": "https://localhost:8080/"
        },
        "id": "_mfO5BeEesoB",
        "outputId": "cadcd1a7-f528-4ed1-9b48-aca09b5e01fa"
      },
      "execution_count": null,
      "outputs": [
        {
          "output_type": "stream",
          "name": "stdout",
          "text": [
            "{'caesar': 'dog', 'ryan': 'dog', 'leela': 'cat'}\n"
          ]
        }
      ]
    },
    {
      "cell_type": "code",
      "source": [
        "import pandas as pd\n",
        "\n",
        "# Create a sample DataFrame\n",
        "data = {\n",
        "    'age': [20, 25, 30, 35, 40]\n",
        "}\n",
        "df = pd.DataFrame(data)\n",
        "\n",
        "# Normalize the 'age' column\n",
        "df[\"age_normalized\"] = df[\"age\"] / df[\"age\"].max()\n",
        "\n",
        "# Print the DataFrame to verify\n",
        "print(df)\n"
      ],
      "metadata": {
        "colab": {
          "base_uri": "https://localhost:8080/"
        },
        "id": "zqmkRKVeesuB",
        "outputId": "cd9ab7f6-ad42-42fa-b8d8-60ffd8ffea93"
      },
      "execution_count": null,
      "outputs": [
        {
          "output_type": "stream",
          "name": "stdout",
          "text": [
            "   age  age_normalized\n",
            "0   20           0.500\n",
            "1   25           0.625\n",
            "2   30           0.750\n",
            "3   35           0.875\n",
            "4   40           1.000\n"
          ]
        }
      ]
    },
    {
      "cell_type": "code",
      "source": [
        "import pandas as pd\n",
        "from tabulate import tabulate\n",
        "\n",
        "# Function to pretty print DataFrame using tabulate\n",
        "def pretty_print(title, df, num_rows):\n",
        "    print(title)\n",
        "    print(tabulate(df.head(num_rows), headers='keys', tablefmt='psql'))\n",
        "    print(\"\\n\")\n",
        "\n",
        "# First DataFrame\n",
        "df_1 = pd.DataFrame({'id': ['A01', 'A02', 'A03', 'A04'],\n",
        "                     'Name': ['Dog', 'Cat', 'Eagle', 'Peacock']})\n",
        "pretty_print(\"df_1:\", df_1, 10)\n",
        "\n",
        "# Second DataFrame\n",
        "df_2 = pd.DataFrame({'id': ['A01', 'A06', 'A02', 'A07'],\n",
        "                     'City': ['SFO', 'Chennai', 'NYC', 'Bangalore'],\n",
        "                     'Age': ['12', '13', '14', '12']})\n",
        "pretty_print(\"df_2:\", df_2, 10)\n",
        "\n",
        "# Outer join => outputs all rows from both dataframes\n",
        "df_new = pd.merge(df_1, df_2, on='id', how='outer')\n",
        "pretty_print(\"merged outer:\", df_new, 10)\n",
        "\n",
        "# Inner join (equi join) => outputs common intersect\n",
        "df_new = pd.merge(df_1, df_2, on='id', how='inner')\n",
        "pretty_print(\"merged inner:\", df_new, 10)\n",
        "\n",
        "# Different column name\n",
        "# Assuming you meant to merge on different column names (correct column names must be specified)\n",
        "df_3 = pd.DataFrame({'id_1': ['A01', 'A02', 'A03', 'A04'],\n",
        "                     'Name': ['Dog', 'Cat', 'Eagle', 'Peacock']})\n",
        "df_4 = pd.DataFrame({'id_2': ['A01', 'A06', 'A02', 'A07'],\n",
        "                     'City': ['SFO', 'Chennai', 'NYC', 'Bangalore'],\n",
        "                     'Age': ['12', '13', '14', '12']})\n",
        "\n",
        "# Adjusting the merge to reflect different column names in the two dataframes\n",
        "df_new = pd.merge(df_3, df_4, left_on='id_1', right_on='id_2', how='inner')\n",
        "pretty_print(\"merged with different column names:\", df_new, 10)\n"
      ],
      "metadata": {
        "colab": {
          "base_uri": "https://localhost:8080/"
        },
        "id": "aY7CJ6lhesz1",
        "outputId": "b4a5ab03-9b7a-4f92-80af-6c2cbc5e572d"
      },
      "execution_count": null,
      "outputs": [
        {
          "output_type": "stream",
          "name": "stdout",
          "text": [
            "df_1:\n",
            "+----+------+---------+\n",
            "|    | id   | Name    |\n",
            "|----+------+---------|\n",
            "|  0 | A01  | Dog     |\n",
            "|  1 | A02  | Cat     |\n",
            "|  2 | A03  | Eagle   |\n",
            "|  3 | A04  | Peacock |\n",
            "+----+------+---------+\n",
            "\n",
            "\n",
            "df_2:\n",
            "+----+------+-----------+-------+\n",
            "|    | id   | City      |   Age |\n",
            "|----+------+-----------+-------|\n",
            "|  0 | A01  | SFO       |    12 |\n",
            "|  1 | A06  | Chennai   |    13 |\n",
            "|  2 | A02  | NYC       |    14 |\n",
            "|  3 | A07  | Bangalore |    12 |\n",
            "+----+------+-----------+-------+\n",
            "\n",
            "\n",
            "merged outer:\n",
            "+----+------+---------+-----------+-------+\n",
            "|    | id   | Name    | City      |   Age |\n",
            "|----+------+---------+-----------+-------|\n",
            "|  0 | A01  | Dog     | SFO       |    12 |\n",
            "|  1 | A02  | Cat     | NYC       |    14 |\n",
            "|  2 | A03  | Eagle   | nan       |   nan |\n",
            "|  3 | A04  | Peacock | nan       |   nan |\n",
            "|  4 | A06  | nan     | Chennai   |    13 |\n",
            "|  5 | A07  | nan     | Bangalore |    12 |\n",
            "+----+------+---------+-----------+-------+\n",
            "\n",
            "\n",
            "merged inner:\n",
            "+----+------+--------+--------+-------+\n",
            "|    | id   | Name   | City   |   Age |\n",
            "|----+------+--------+--------+-------|\n",
            "|  0 | A01  | Dog    | SFO    |    12 |\n",
            "|  1 | A02  | Cat    | NYC    |    14 |\n",
            "+----+------+--------+--------+-------+\n",
            "\n",
            "\n",
            "merged with different column names:\n",
            "+----+--------+--------+--------+--------+-------+\n",
            "|    | id_1   | Name   | id_2   | City   |   Age |\n",
            "|----+--------+--------+--------+--------+-------|\n",
            "|  0 | A01    | Dog    | A01    | SFO    |    12 |\n",
            "|  1 | A02    | Cat    | A02    | NYC    |    14 |\n",
            "+----+--------+--------+--------+--------+-------+\n",
            "\n",
            "\n"
          ]
        }
      ]
    },
    {
      "cell_type": "code",
      "source": [
        "import pandas as pd\n",
        "from tabulate import tabulate\n",
        "# first df\n",
        "df_1 = pd.DataFrame({'id': ['A01', 'A02', 'A03', 'A04'],\n",
        "                   'Name': ['Dog', 'Cat', 'Eagle', 'Peacock']\n",
        "                    })\n",
        "pretty_print(\"df_1:\", df_1, 10)\n",
        "# second df\n",
        "df_2 = pd.DataFrame({\n",
        "                   'id' : ['A01', 'A06', 'A02', 'A07'],\n",
        "                   'City': ['SFO', 'Chennai', 'NYC', 'Bangalore'],\n",
        "                   'Age': ['12', '13', '14', '12']})\n",
        "pretty_print(\"df_2:\", df_2, 10)\n",
        "# LEFT JOIN => takes all the values from df1, if it exists on the df2 puts it values, otherwise nan\n",
        "df_new = df_1.merge(df_2, left_on=['id'], right_on = ['id'], how='left')\n",
        "pretty_print(\"left join:\", df_new, 10)\n",
        "# find rows in df2 which are not in df1\n",
        "df_na = df_new[df_new[\"City\"].isna()]\n",
        "pretty_print(\"rows in df2 which are not in df1:\", df_na, 10)\n",
        "\n"
      ],
      "metadata": {
        "colab": {
          "base_uri": "https://localhost:8080/"
        },
        "id": "7Mjed3v9es2s",
        "outputId": "f5c45ede-5cab-48b6-d483-87c824ff818f"
      },
      "execution_count": null,
      "outputs": [
        {
          "output_type": "stream",
          "name": "stdout",
          "text": [
            "df_1:\n",
            "+----+------+---------+\n",
            "|    | id   | Name    |\n",
            "|----+------+---------|\n",
            "|  0 | A01  | Dog     |\n",
            "|  1 | A02  | Cat     |\n",
            "|  2 | A03  | Eagle   |\n",
            "|  3 | A04  | Peacock |\n",
            "+----+------+---------+\n",
            "\n",
            "\n",
            "df_2:\n",
            "+----+------+-----------+-------+\n",
            "|    | id   | City      |   Age |\n",
            "|----+------+-----------+-------|\n",
            "|  0 | A01  | SFO       |    12 |\n",
            "|  1 | A06  | Chennai   |    13 |\n",
            "|  2 | A02  | NYC       |    14 |\n",
            "|  3 | A07  | Bangalore |    12 |\n",
            "+----+------+-----------+-------+\n",
            "\n",
            "\n",
            "left join:\n",
            "+----+------+---------+--------+-------+\n",
            "|    | id   | Name    | City   |   Age |\n",
            "|----+------+---------+--------+-------|\n",
            "|  0 | A01  | Dog     | SFO    |    12 |\n",
            "|  1 | A02  | Cat     | NYC    |    14 |\n",
            "|  2 | A03  | Eagle   | nan    |   nan |\n",
            "|  3 | A04  | Peacock | nan    |   nan |\n",
            "+----+------+---------+--------+-------+\n",
            "\n",
            "\n",
            "rows in df2 which are not in df1:\n",
            "+----+------+---------+--------+-------+\n",
            "|    | id   | Name    |   City |   Age |\n",
            "|----+------+---------+--------+-------|\n",
            "|  2 | A03  | Eagle   |    nan |   nan |\n",
            "|  3 | A04  | Peacock |    nan |   nan |\n",
            "+----+------+---------+--------+-------+\n",
            "\n",
            "\n"
          ]
        }
      ]
    },
    {
      "cell_type": "code",
      "source": [
        "import pandas as pd\n",
        "from tabulate import tabulate\n",
        "\n",
        "# Function to pretty print DataFrame using tabulate\n",
        "def pretty_print(title, df, num_rows):\n",
        "    print(title)\n",
        "    print(tabulate(df.head(num_rows), headers='keys', tablefmt='psql'))\n",
        "    print(\"\\n\")\n",
        "\n",
        "# First DataFrame\n",
        "df_1 = pd.DataFrame({'id': ['A01', 'A02', 'A03', 'A04'],\n",
        "                     'Name': ['Dog', 'Cat', 'Eagle', 'Peacock']})\n",
        "pretty_print(\"df_1:\", df_1, 10)\n",
        "\n",
        "# Second DataFrame\n",
        "df_2 = pd.DataFrame({'id': ['A01', 'A06', 'A02', 'A07'],\n",
        "                     'City': ['SFO', 'Chennai', 'NYC', 'Bangalore'],\n",
        "                     'Age': ['12', '13', '14', '12']})\n",
        "pretty_print(\"df_2:\", df_2, 10)\n",
        "\n",
        "# Outer join => outputs all rows from both dataframes\n",
        "df_new = pd.merge(df_1, df_2, on='id', how='outer')\n",
        "pretty_print(\"merged outer:\", df_new, 10)\n",
        "\n",
        "# Inner join (equi join) => outputs common intersect\n",
        "df_new = pd.merge(df_1, df_2, on='id', how='inner')\n",
        "pretty_print(\"merged inner:\", df_new, 10)\n",
        "\n",
        "# Different column name\n",
        "# Assuming you meant to merge on different column names (correct column names must be specified)\n",
        "df_3 = pd.DataFrame({'id_1': ['A01', 'A02', 'A03', 'A04'],\n",
        "                     'Name': ['Dog', 'Cat', 'Eagle', 'Peacock']})\n",
        "df_4 = pd.DataFrame({'id_2': ['A01', 'A06', 'A02', 'A07'],\n",
        "                     'City': ['SFO', 'Chennai', 'NYC', 'Bangalore'],\n",
        "                     'Age': ['12', '13', '14', '12']})\n",
        "\n",
        "# Adjusting the merge to reflect different column names in the two dataframes\n",
        "df_new = pd.merge(df_3, df_4, left_on='id_1', right_on='id_2', how='inner')\n",
        "pretty_print(\"merged with different column names:\", df_new, 10)\n"
      ],
      "metadata": {
        "colab": {
          "base_uri": "https://localhost:8080/"
        },
        "id": "7C-M-TaojbAS",
        "outputId": "70ff8dd6-acc1-4fce-d91d-e21b7c6166cc"
      },
      "execution_count": null,
      "outputs": [
        {
          "output_type": "stream",
          "name": "stdout",
          "text": [
            "df_1:\n",
            "+----+------+---------+\n",
            "|    | id   | Name    |\n",
            "|----+------+---------|\n",
            "|  0 | A01  | Dog     |\n",
            "|  1 | A02  | Cat     |\n",
            "|  2 | A03  | Eagle   |\n",
            "|  3 | A04  | Peacock |\n",
            "+----+------+---------+\n",
            "\n",
            "\n",
            "df_2:\n",
            "+----+------+-----------+-------+\n",
            "|    | id   | City      |   Age |\n",
            "|----+------+-----------+-------|\n",
            "|  0 | A01  | SFO       |    12 |\n",
            "|  1 | A06  | Chennai   |    13 |\n",
            "|  2 | A02  | NYC       |    14 |\n",
            "|  3 | A07  | Bangalore |    12 |\n",
            "+----+------+-----------+-------+\n",
            "\n",
            "\n",
            "merged outer:\n",
            "+----+------+---------+-----------+-------+\n",
            "|    | id   | Name    | City      |   Age |\n",
            "|----+------+---------+-----------+-------|\n",
            "|  0 | A01  | Dog     | SFO       |    12 |\n",
            "|  1 | A02  | Cat     | NYC       |    14 |\n",
            "|  2 | A03  | Eagle   | nan       |   nan |\n",
            "|  3 | A04  | Peacock | nan       |   nan |\n",
            "|  4 | A06  | nan     | Chennai   |    13 |\n",
            "|  5 | A07  | nan     | Bangalore |    12 |\n",
            "+----+------+---------+-----------+-------+\n",
            "\n",
            "\n",
            "merged inner:\n",
            "+----+------+--------+--------+-------+\n",
            "|    | id   | Name   | City   |   Age |\n",
            "|----+------+--------+--------+-------|\n",
            "|  0 | A01  | Dog    | SFO    |    12 |\n",
            "|  1 | A02  | Cat    | NYC    |    14 |\n",
            "+----+------+--------+--------+-------+\n",
            "\n",
            "\n",
            "merged with different column names:\n",
            "+----+--------+--------+--------+--------+-------+\n",
            "|    | id_1   | Name   | id_2   | City   |   Age |\n",
            "|----+--------+--------+--------+--------+-------|\n",
            "|  0 | A01    | Dog    | A01    | SFO    |    12 |\n",
            "|  1 | A02    | Cat    | A02    | NYC    |    14 |\n",
            "+----+--------+--------+--------+--------+-------+\n",
            "\n",
            "\n"
          ]
        }
      ]
    },
    {
      "cell_type": "code",
      "source": [
        "import os\n",
        "import glob\n",
        "\n",
        "# Replace '/home/username/csv_files' with the actual path to your CSV files directory\n",
        "csv_directory = '/path/to/your/csv/files'\n",
        "\n",
        "# Check if the directory exists\n",
        "if os.path.exists(csv_directory):\n",
        "    # Change directory to where your CSV files are located\n",
        "    os.chdir(csv_directory)\n",
        "\n",
        "    # Find list of files with .csv extension recursively\n",
        "    result = glob.glob('**/*.csv', recursive=True)\n",
        "\n",
        "    # Print the list of CSV files found\n",
        "    print(result)\n",
        "else:\n",
        "    print(f\"The directory '{csv_directory}' does not exist.\")\n"
      ],
      "metadata": {
        "colab": {
          "base_uri": "https://localhost:8080/"
        },
        "id": "lt0TUetlmjDv",
        "outputId": "80a83843-b9dc-47f3-8d7c-efdebb0dff40"
      },
      "execution_count": null,
      "outputs": [
        {
          "output_type": "stream",
          "name": "stdout",
          "text": [
            "The directory '/path/to/your/csv/files' does not exist.\n"
          ]
        }
      ]
    },
    {
      "cell_type": "code",
      "source": [
        "# get a list of tables from the URL\n",
        "lst_tables = pd.read_html(\"https://scholar.google.com/citations?user=6JeebN0AAAAJ&hl=en\")\n",
        "# iterate and print each table\n",
        "for i, table in enumerate(tables):\n",
        "pretty_print(f\"Table {str(i)}\", table, 20)\n",
        "\n"
      ],
      "metadata": {
        "colab": {
          "base_uri": "https://localhost:8080/",
          "height": 106
        },
        "id": "eK-Wr0GCmjGn",
        "outputId": "3937be23-095f-43c7-9e2e-c19f7e1fd938"
      },
      "execution_count": null,
      "outputs": [
        {
          "output_type": "error",
          "ename": "IndentationError",
          "evalue": "expected an indented block after 'for' statement on line 4 (<ipython-input-31-7723776b2250>, line 5)",
          "traceback": [
            "\u001b[0;36m  File \u001b[0;32m\"<ipython-input-31-7723776b2250>\"\u001b[0;36m, line \u001b[0;32m5\u001b[0m\n\u001b[0;31m    pretty_print(f\"Table {str(i)}\", table, 20)\u001b[0m\n\u001b[0m    ^\u001b[0m\n\u001b[0;31mIndentationError\u001b[0m\u001b[0;31m:\u001b[0m expected an indented block after 'for' statement on line 4\n"
          ]
        }
      ]
    },
    {
      "cell_type": "code",
      "source": [
        "import pandas as pd\n",
        "from tabulate import tabulate\n",
        "\n",
        "# Function to pretty print DataFrame using tabulate\n",
        "def pretty_print(title, df, num_rows):\n",
        "    print(title)\n",
        "    print(tabulate(df.head(num_rows), headers='keys', tablefmt='psql'))\n",
        "    print(\"\\n\")\n",
        "\n",
        "# Get a list of tables from the URL\n",
        "lst_tables = pd.read_html(\"https://scholar.google.com/citations?user=6JeebN0AAAAJ&hl=en\")\n",
        "\n",
        "# Iterate and print each table\n",
        "for i, table in enumerate(lst_tables):\n",
        "    pretty_print(f\"Table {str(i)}\", table, 20)\n"
      ],
      "metadata": {
        "colab": {
          "base_uri": "https://localhost:8080/"
        },
        "id": "S9LQtXd2mjJg",
        "outputId": "91f14360-4994-4a86-cf60-bdfae8484710"
      },
      "execution_count": null,
      "outputs": [
        {
          "output_type": "stream",
          "name": "stdout",
          "text": [
            "Table 0\n",
            "+----+--------------+-------+--------------+\n",
            "|    | Unnamed: 0   |   All |   Since 2019 |\n",
            "|----+--------------+-------+--------------|\n",
            "|  0 | Citations    |    76 |           61 |\n",
            "|  1 | h-index      |     5 |            5 |\n",
            "|  2 | i10-index    |     4 |            3 |\n",
            "+----+--------------+-------+--------------+\n",
            "\n",
            "\n",
            "Table 1\n",
            "+----+-----------------------------------------------------------------------------------------------------------------------------------------------------------------------------------+--------------------+--------+\n",
            "|    | TitleSortSort by citationsSort by yearSort by title                                                                                                                               |   Cited byCited by |   Year |\n",
            "|----+-----------------------------------------------------------------------------------------------------------------------------------------------------------------------------------+--------------------+--------|\n",
            "|  0 | Survey of crime analysis and predictionL Mookiah, W Eberle, A SirajThe Twenty-Eighth International Flairs Conference, 2015                                                        |                 22 |   2015 |\n",
            "|  1 | Graph-Based Anomaly Detection on Smart Grid DataL Mookiah, C Dean, W EberleFlorida Artificial Intelligence Research Society Conference, 2017                                      |                 15 |   2017 |\n",
            "|  2 | Personalized News Recommendation using Graph-Based ApproachL Mookiah, W Eberle, M MondalIntelligent Data Analysis 22, 2018                                                        |                 12 |   2018 |\n",
            "|  3 | Detecting suspicious behavior using a graph-based approachL Mookiah, W Eberle, L Holder2014 IEEE Conference on Visual Analytics Science and Technology (VAST), 357-358, 2014      |                 11 |   2014 |\n",
            "|  4 | Discovering Suspicious Patterns Using a Graph Based ApproachS Velampall, L Mookiah, W EberleThe 32nd International FLAIRS Conference, 2019                                        |                  9 |   2019 |\n",
            "|  5 | Discovering Suspicious Patterns Using a Graph Based ApproachS Velampalli, L Mookiah, W EberleVisual Analytics Science and Technology (VAST), 2018, 2018                           |                  9 |   2018 |\n",
            "|  6 | Discovering Suspicious Behavior Using Graph-Based ApproachL Mookiah, W Eberle, L HolderThe Twenty-Eighth International Flairs Conference, 2015                                    |                  3 |   2015 |\n",
            "|  7 | Co-ranking authors in heterogeneous news networksL Mookiah, W Eberle2016 International Conference on Computational Science and Computational …, 2016                              |                  2 |   2016 |\n",
            "|  8 | Anomalies in Students Enrollment Using VisualizationNM Thakkar, L Mookiah, T Doug, W EberleFlorida Artificial Intelligence Research Society Conference, 2017                      |                  1 |   2017 |\n",
            "|  9 | Detecting change in news feeds using a context based graphL Mookiah, W Eberle, M MondalProceedings of the International Conference on Data Science (ICDATA), 161, 2016            |                  1 |   2016 |\n",
            "| 10 | Graph Analytics: Mining Interesting Substructures using Graph Properties as Background KnowledgeS Velampalli, W Eberle, L MookiahIntelligent Data Analysis 22 (5), 2018           |                nan |   2018 |\n",
            "| 11 | Detecting Vehicular Patterns using a Graph-Based Approach (Poster)WE Sirisha Vellampalli, Lenin MookiahInternational Conference of the Florida AI Research Society (FLAIRS), 2018 |                nan |   2018 |\n",
            "| 12 | Detecting Vehicular Patterns Using a Graph-Based ApproachS Velampalli, L Mookiah, W EberleVisual Analytics Science and Technology 2017, 2017                                      |                nan |   2017 |\n",
            "| 13 | Personalized Context Mining of News Streams Using Graph-based ApproachesL MookiahTennessee Technological University, 2017                                                         |                nan |   2017 |\n",
            "+----+-----------------------------------------------------------------------------------------------------------------------------------------------------------------------------------+--------------------+--------+\n",
            "\n",
            "\n"
          ]
        }
      ]
    },
    {
      "cell_type": "code",
      "source": [
        "df_out = df.fillna(method = \"ffill\")\n",
        "\n"
      ],
      "metadata": {
        "id": "X62hdxBkmjMc"
      },
      "execution_count": null,
      "outputs": []
    },
    {
      "cell_type": "code",
      "source": [
        "import pandas as pd\n",
        "\n",
        "# Assuming df is loaded or created somewhere in your code\n",
        "# Example creation of DataFrame\n",
        "data = {\n",
        "    'State': ['CA', 'NY', 'TX', 'CA', 'TX'],\n",
        "    'Sex': ['M', 'F', 'M', 'M', 'F']\n",
        "}\n",
        "df = pd.DataFrame(data)\n",
        "\n",
        "# Check the columns in your DataFrame\n",
        "print(df.columns)\n",
        "\n",
        "# Verify if 'Sex' is in the columns\n",
        "if 'Sex' in df.columns:\n",
        "    # Filter for men only and count by state\n",
        "    df_state_male = df.loc[df['Sex'] == \"M\"] \\\n",
        "                      .groupby(['State']) \\\n",
        "                      .size() \\\n",
        "                      .to_frame('count') \\\n",
        "                      .reset_index()\n",
        "\n",
        "    # Sort by count\n",
        "    df_sorted = df_state_male.sort_values(by=['count'], ascending=False)\n",
        "\n",
        "    # Assign ranks and percentile ranks\n",
        "    df_sorted['rank'] = df_sorted['count'].rank(ascending=False)\n",
        "    df_sorted['pct_rank'] = df_sorted['count'].rank(pct=True)\n",
        "\n",
        "    # Display the top 10 rows\n",
        "    print(df_sorted.head(10))\n",
        "else:\n",
        "    print(\"Column 'Sex' does not exist in the DataFrame.\")\n"
      ],
      "metadata": {
        "colab": {
          "base_uri": "https://localhost:8080/"
        },
        "id": "XSji47DbjbPo",
        "outputId": "920a7c10-6ecd-4ce7-84c7-f090f647d769"
      },
      "execution_count": null,
      "outputs": [
        {
          "output_type": "stream",
          "name": "stdout",
          "text": [
            "Index(['State', 'Sex'], dtype='object')\n",
            "  State  count  rank  pct_rank\n",
            "0    CA      2   1.0       1.0\n",
            "1    TX      1   2.0       0.5\n"
          ]
        }
      ]
    },
    {
      "cell_type": "code",
      "source": [
        "import pandas as pd\n",
        "\n",
        "# Example of a valid path (replace with your actual path)\n",
        "file_path = '/path/to/your/air_quality_no2.csv'\n",
        "\n",
        "try:\n",
        "    # Load the CSV file into a DataFrame\n",
        "    df = pd.read_csv(file_path, index_col=0, parse_dates=True)\n",
        "\n",
        "    # Print the first few rows to verify\n",
        "    print(df.head())\n",
        "\n",
        "except FileNotFoundError:\n",
        "    print(f\"File '{file_path}' not found. Please check the file path and try again.\")\n"
      ],
      "metadata": {
        "colab": {
          "base_uri": "https://localhost:8080/"
        },
        "id": "iaOildAFrEF-",
        "outputId": "644de46b-e858-4f32-b6fe-2f8ee7f06f87"
      },
      "execution_count": null,
      "outputs": [
        {
          "output_type": "stream",
          "name": "stdout",
          "text": [
            "File '/path/to/your/air_quality_no2.csv' not found. Please check the file path and try again.\n"
          ]
        }
      ]
    },
    {
      "cell_type": "code",
      "source": [
        "import time\n",
        "from tqdm import tqdm\n",
        "\n",
        "# Define the list of values\n",
        "values = [1000, 1500, 700, 0]\n",
        "\n",
        "# Iterate over each value\n",
        "for x in values:\n",
        "    # Initialize tqdm progress bar\n",
        "    with tqdm(total=x, desc=f'Processing {x}') as pbar:\n",
        "        for i in range(x):\n",
        "            # Simulate some processing time\n",
        "            time.sleep(0.005)\n",
        "            # Update the progress bar\n",
        "            pbar.update(1)\n"
      ],
      "metadata": {
        "colab": {
          "base_uri": "https://localhost:8080/"
        },
        "id": "5l4EARQ4rEP8",
        "outputId": "1290e1f4-b8a7-4366-9063-6d7edef086d4"
      },
      "execution_count": null,
      "outputs": [
        {
          "output_type": "stream",
          "name": "stderr",
          "text": [
            "Processing 1000: 100%|██████████| 1000/1000 [00:05<00:00, 190.32it/s]\n",
            "Processing 1500: 100%|██████████| 1500/1500 [00:07<00:00, 190.68it/s]\n",
            "Processing 700: 100%|██████████| 700/700 [00:03<00:00, 189.91it/s]\n",
            "Processing 0: 0it [00:00, ?it/s]\n"
          ]
        }
      ]
    },
    {
      "cell_type": "code",
      "source": [],
      "metadata": {
        "id": "CyD6X8LQrEf2"
      },
      "execution_count": null,
      "outputs": []
    },
    {
      "cell_type": "code",
      "source": [],
      "metadata": {
        "id": "xXSTAgzprEih"
      },
      "execution_count": null,
      "outputs": []
    },
    {
      "cell_type": "code",
      "source": [],
      "metadata": {
        "id": "CRrPfP1wrEmF"
      },
      "execution_count": null,
      "outputs": []
    },
    {
      "cell_type": "code",
      "source": [
        "!pip install matplotlib"
      ],
      "metadata": {
        "id": "w2YdkJ2cx1eq",
        "outputId": "e3607ab8-4a97-4ff0-f4ad-a47a320ab4b9",
        "colab": {
          "base_uri": "https://localhost:8080/"
        }
      },
      "execution_count": null,
      "outputs": [
        {
          "output_type": "stream",
          "name": "stdout",
          "text": [
            "Requirement already satisfied: matplotlib in /usr/local/lib/python3.10/dist-packages (3.7.1)\n",
            "Requirement already satisfied: contourpy>=1.0.1 in /usr/local/lib/python3.10/dist-packages (from matplotlib) (1.2.1)\n",
            "Requirement already satisfied: cycler>=0.10 in /usr/local/lib/python3.10/dist-packages (from matplotlib) (0.12.1)\n",
            "Requirement already satisfied: fonttools>=4.22.0 in /usr/local/lib/python3.10/dist-packages (from matplotlib) (4.53.0)\n",
            "Requirement already satisfied: kiwisolver>=1.0.1 in /usr/local/lib/python3.10/dist-packages (from matplotlib) (1.4.5)\n",
            "Requirement already satisfied: numpy>=1.20 in /usr/local/lib/python3.10/dist-packages (from matplotlib) (1.25.2)\n",
            "Requirement already satisfied: packaging>=20.0 in /usr/local/lib/python3.10/dist-packages (from matplotlib) (24.1)\n",
            "Requirement already satisfied: pillow>=6.2.0 in /usr/local/lib/python3.10/dist-packages (from matplotlib) (9.4.0)\n",
            "Requirement already satisfied: pyparsing>=2.3.1 in /usr/local/lib/python3.10/dist-packages (from matplotlib) (3.1.2)\n",
            "Requirement already satisfied: python-dateutil>=2.7 in /usr/local/lib/python3.10/dist-packages (from matplotlib) (2.8.2)\n",
            "Requirement already satisfied: six>=1.5 in /usr/local/lib/python3.10/dist-packages (from python-dateutil>=2.7->matplotlib) (1.16.0)\n"
          ]
        }
      ]
    },
    {
      "cell_type": "code",
      "source": [
        "!pip install seaborn"
      ],
      "metadata": {
        "id": "6ZfmsIKwx-gM",
        "outputId": "71cb8166-a58b-42bb-b11c-39e46ceabe7f",
        "colab": {
          "base_uri": "https://localhost:8080/"
        }
      },
      "execution_count": null,
      "outputs": [
        {
          "output_type": "stream",
          "name": "stdout",
          "text": [
            "Requirement already satisfied: seaborn in /usr/local/lib/python3.10/dist-packages (0.13.1)\n",
            "Requirement already satisfied: numpy!=1.24.0,>=1.20 in /usr/local/lib/python3.10/dist-packages (from seaborn) (1.25.2)\n",
            "Requirement already satisfied: pandas>=1.2 in /usr/local/lib/python3.10/dist-packages (from seaborn) (2.0.3)\n",
            "Requirement already satisfied: matplotlib!=3.6.1,>=3.4 in /usr/local/lib/python3.10/dist-packages (from seaborn) (3.7.1)\n",
            "Requirement already satisfied: contourpy>=1.0.1 in /usr/local/lib/python3.10/dist-packages (from matplotlib!=3.6.1,>=3.4->seaborn) (1.2.1)\n",
            "Requirement already satisfied: cycler>=0.10 in /usr/local/lib/python3.10/dist-packages (from matplotlib!=3.6.1,>=3.4->seaborn) (0.12.1)\n",
            "Requirement already satisfied: fonttools>=4.22.0 in /usr/local/lib/python3.10/dist-packages (from matplotlib!=3.6.1,>=3.4->seaborn) (4.53.0)\n",
            "Requirement already satisfied: kiwisolver>=1.0.1 in /usr/local/lib/python3.10/dist-packages (from matplotlib!=3.6.1,>=3.4->seaborn) (1.4.5)\n",
            "Requirement already satisfied: packaging>=20.0 in /usr/local/lib/python3.10/dist-packages (from matplotlib!=3.6.1,>=3.4->seaborn) (24.1)\n",
            "Requirement already satisfied: pillow>=6.2.0 in /usr/local/lib/python3.10/dist-packages (from matplotlib!=3.6.1,>=3.4->seaborn) (9.4.0)\n",
            "Requirement already satisfied: pyparsing>=2.3.1 in /usr/local/lib/python3.10/dist-packages (from matplotlib!=3.6.1,>=3.4->seaborn) (3.1.2)\n",
            "Requirement already satisfied: python-dateutil>=2.7 in /usr/local/lib/python3.10/dist-packages (from matplotlib!=3.6.1,>=3.4->seaborn) (2.8.2)\n",
            "Requirement already satisfied: pytz>=2020.1 in /usr/local/lib/python3.10/dist-packages (from pandas>=1.2->seaborn) (2023.4)\n",
            "Requirement already satisfied: tzdata>=2022.1 in /usr/local/lib/python3.10/dist-packages (from pandas>=1.2->seaborn) (2024.1)\n",
            "Requirement already satisfied: six>=1.5 in /usr/local/lib/python3.10/dist-packages (from python-dateutil>=2.7->matplotlib!=3.6.1,>=3.4->seaborn) (1.16.0)\n"
          ]
        }
      ]
    }
  ]
}